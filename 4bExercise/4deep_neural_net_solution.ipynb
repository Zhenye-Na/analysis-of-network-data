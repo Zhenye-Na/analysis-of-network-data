{
 "cells": [
  {
   "cell_type": "markdown",
   "metadata": {},
   "source": [
    "## Neural Network\n",
    "In this exercise, we will use Neural Networks to perform Linear Regression.\n",
    "\n",
    "The objective is to build a 2-hidden layers fully connected neural network (a.k.a multilayer perceptron) with TensorFlow using some of the higher-level wrappers (tf.estimators, tf.layers, tf.metrics, ...), you can check 'neural_network_raw' example for a raw, and more detailed TensorFlow implementation.\n",
    "\n",
    "Further, we will use the MNIST Dataset used in the last exercise."
   ]
  },
  {
   "cell_type": "code",
   "execution_count": 1,
   "metadata": {},
   "outputs": [
    {
     "name": "stdout",
     "output_type": "stream",
     "text": [
      "Extracting /tmp/data/train-images-idx3-ubyte.gz\n",
      "Extracting /tmp/data/train-labels-idx1-ubyte.gz\n",
      "Extracting /tmp/data/t10k-images-idx3-ubyte.gz\n",
      "Extracting /tmp/data/t10k-labels-idx1-ubyte.gz\n"
     ]
    }
   ],
   "source": [
    "from __future__ import print_function\n",
    "\n",
    "# Import MNIST data\n",
    "from tensorflow.examples.tutorials.mnist import input_data\n",
    "mnist = input_data.read_data_sets(\"/tmp/data/\", one_hot=False)\n",
    "\n",
    "import tensorflow as tf\n",
    "import matplotlib.pyplot as plt\n",
    "import numpy as np"
   ]
  },
  {
   "cell_type": "markdown",
   "metadata": {},
   "source": [
    "Set the parameters."
   ]
  },
  {
   "cell_type": "code",
   "execution_count": 2,
   "metadata": {
    "collapsed": true
   },
   "outputs": [],
   "source": [
    "learning_rate = 0.1\n",
    "num_steps = 300\n",
    "batch_size = 128\n",
    "\n",
    "# Network Parameters\n",
    "n_hidden_1 = 128 # 1st layer number of neurons\n",
    "n_hidden_2 = 128 # 2nd layer number of neurons\n",
    "num_input = 784 # MNIST data input (img shape: 28*28)\n",
    "num_classes = 10 # MNIST total classes (0-9 digits)"
   ]
  },
  {
   "cell_type": "markdown",
   "metadata": {},
   "source": [
    "Define the input function for training."
   ]
  },
  {
   "cell_type": "code",
   "execution_count": 3,
   "metadata": {
    "collapsed": true
   },
   "outputs": [],
   "source": [
    "input_fn = tf.estimator.inputs.numpy_input_fn(\n",
    "    x={'images': mnist.train.images}, y=mnist.train.labels,\n",
    "    batch_size=batch_size, num_epochs=None, shuffle=True)"
   ]
  },
  {
   "cell_type": "markdown",
   "metadata": {},
   "source": [
    "Define the neural network."
   ]
  },
  {
   "cell_type": "code",
   "execution_count": 4,
   "metadata": {
    "collapsed": true
   },
   "outputs": [],
   "source": [
    "def neural_net(x_dict):\n",
    "    # TF Estimator input is a dict, in case of multiple inputs\n",
    "    x = x_dict['images']\n",
    "    # Hidden fully connected layer with 128 neurons\n",
    "    layer_1 = tf.layers.dense(x, n_hidden_1)\n",
    "    # Hidden fully connected layer with 128 neurons\n",
    "    layer_2 = tf.layers.dense(layer_1, n_hidden_2)\n",
    "    # Output fully connected layer with a neuron for each class\n",
    "    out_layer = tf.layers.dense(layer_2, num_classes)\n",
    "    return out_layer"
   ]
  },
  {
   "cell_type": "markdown",
   "metadata": {},
   "source": [
    "Define the model function (following __[TF Estimator Template](https://www.tensorflow.org/api_docs/python/tf/estimator/Estimator)__)."
   ]
  },
  {
   "cell_type": "code",
   "execution_count": 5,
   "metadata": {
    "collapsed": true
   },
   "outputs": [],
   "source": [
    "def model_fn(features, labels, mode):\n",
    "    \n",
    "    # Build the neural network\n",
    "    logits = neural_net(features)\n",
    "    \n",
    "    # Predictions\n",
    "    pred_classes = tf.argmax(logits, axis=1)\n",
    "    pred_probas = tf.nn.softmax(logits)\n",
    "    \n",
    "    # If prediction mode, early return\n",
    "    if mode == tf.estimator.ModeKeys.PREDICT:\n",
    "        return tf.estimator.EstimatorSpec(mode, predictions=pred_classes) \n",
    "        \n",
    "    # Define loss and optimizer\n",
    "    loss_op = tf.reduce_mean(tf.nn.sparse_softmax_cross_entropy_with_logits(\n",
    "        logits=logits, labels=tf.cast(labels, dtype=tf.int32)))\n",
    "    optimizer = tf.train.GradientDescentOptimizer(learning_rate=learning_rate)\n",
    "    train_op = optimizer.minimize(loss_op, global_step=tf.train.get_global_step())\n",
    "    \n",
    "    # Evaluate the accuracy of the model\n",
    "    acc_op = tf.metrics.accuracy(labels=labels, predictions=pred_classes)\n",
    "    \n",
    "    # TF Estimators requires to return a EstimatorSpec, that specify\n",
    "    # the different ops for training, evaluating, ...\n",
    "    estim_specs = tf.estimator.EstimatorSpec(\n",
    "      mode=mode,\n",
    "      predictions=pred_classes,\n",
    "      loss=loss_op,\n",
    "      train_op=train_op,\n",
    "      eval_metric_ops={'accuracy': acc_op})\n",
    "\n",
    "    return estim_specs"
   ]
  },
  {
   "cell_type": "markdown",
   "metadata": {},
   "source": [
    "Build the Estimator."
   ]
  },
  {
   "cell_type": "code",
   "execution_count": 6,
   "metadata": {},
   "outputs": [
    {
     "name": "stdout",
     "output_type": "stream",
     "text": [
      "WARNING:tensorflow:Using temporary folder as model directory: /var/folders/2x/fsd9vxyj7q111h9x390gv1lw0000gn/T/tmpa56kbf3k\n",
      "INFO:tensorflow:Using default config.\n",
      "INFO:tensorflow:Using config: {}\n"
     ]
    }
   ],
   "source": [
    "model = tf.estimator.Estimator(model_fn)"
   ]
  },
  {
   "cell_type": "markdown",
   "metadata": {},
   "source": [
    "Train the Model."
   ]
  },
  {
   "cell_type": "code",
   "execution_count": 7,
   "metadata": {},
   "outputs": [
    {
     "name": "stdout",
     "output_type": "stream",
     "text": [
      "INFO:tensorflow:Create CheckpointSaverHook.\n",
      "INFO:tensorflow:Saving checkpoints for 1 into /var/folders/2x/fsd9vxyj7q111h9x390gv1lw0000gn/T/tmpa56kbf3k/model.ckpt.\n",
      "INFO:tensorflow:loss = 2.5118, step = 1\n",
      "INFO:tensorflow:global_step/sec: 216.558\n",
      "INFO:tensorflow:loss = 0.394435, step = 101 (0.463 sec)\n",
      "INFO:tensorflow:global_step/sec: 197.468\n",
      "INFO:tensorflow:loss = 0.362629, step = 201 (0.506 sec)\n",
      "INFO:tensorflow:Saving checkpoints for 300 into /var/folders/2x/fsd9vxyj7q111h9x390gv1lw0000gn/T/tmpa56kbf3k/model.ckpt.\n",
      "INFO:tensorflow:Loss for final step: 0.305298.\n"
     ]
    },
    {
     "data": {
      "text/plain": [
       "<tensorflow.python.estimator.estimator.Estimator at 0x1268a0588>"
      ]
     },
     "execution_count": 7,
     "metadata": {},
     "output_type": "execute_result"
    }
   ],
   "source": [
    "model.train(input_fn, steps=num_steps)"
   ]
  },
  {
   "cell_type": "markdown",
   "metadata": {},
   "source": [
    "Evaluate the Model. Define the input function for evaluating."
   ]
  },
  {
   "cell_type": "code",
   "execution_count": 8,
   "metadata": {},
   "outputs": [
    {
     "name": "stdout",
     "output_type": "stream",
     "text": [
      "INFO:tensorflow:Starting evaluation at 2017-11-09-17:07:56\n",
      "INFO:tensorflow:Restoring parameters from /var/folders/2x/fsd9vxyj7q111h9x390gv1lw0000gn/T/tmpa56kbf3k/model.ckpt-300\n",
      "INFO:tensorflow:Finished evaluation at 2017-11-09-17:07:56\n",
      "INFO:tensorflow:Saving dict for global step 300: accuracy = 0.904, global_step = 300, loss = 0.325106\n",
      "WARNING:tensorflow:Skipping summary for global_step, must be a float or np.float32.\n"
     ]
    },
    {
     "data": {
      "text/plain": [
       "{'accuracy': 0.90399998, 'global_step': 300, 'loss': 0.32510611}"
      ]
     },
     "execution_count": 8,
     "metadata": {},
     "output_type": "execute_result"
    }
   ],
   "source": [
    "input_fn = tf.estimator.inputs.numpy_input_fn(\n",
    "    x={'images': mnist.test.images}, y=mnist.test.labels,\n",
    "    batch_size=batch_size, shuffle=False)\n",
    "# Use the Estimator 'evaluate' method\n",
    "model.evaluate(input_fn)"
   ]
  },
  {
   "cell_type": "markdown",
   "metadata": {},
   "source": [
    "We now test the prediction for 10000 images."
   ]
  },
  {
   "cell_type": "code",
   "execution_count": 9,
   "metadata": {},
   "outputs": [
    {
     "name": "stdout",
     "output_type": "stream",
     "text": [
      "INFO:tensorflow:Restoring parameters from /var/folders/2x/fsd9vxyj7q111h9x390gv1lw0000gn/T/tmpa56kbf3k/model.ckpt-300\n",
      "Testing accuracy: 0.904\n"
     ]
    }
   ],
   "source": [
    "# Predict single images\n",
    "n_images = 10000\n",
    "# Get images from test set\n",
    "test_images = mnist.test.images[:n_images]\n",
    "test_labels = mnist.test.labels[:n_images]\n",
    "# Prepare the input data\n",
    "input_fn = tf.estimator.inputs.numpy_input_fn(\n",
    "    x={'images': test_images}, shuffle=False)\n",
    "# Use the model to predict the images class\n",
    "preds = list(model.predict(input_fn))\n",
    "y_list = list(test_labels)\n",
    "\n",
    "# Display\n",
    "correct_count = 0\n",
    "for i in range(n_images):\n",
    "#     plt.imshow(np.reshape(test_images[i], [28, 28]), cmap='gray')\n",
    "#     plt.show()\n",
    "#     print(\"Model prediction:\", preds[i])\n",
    "#     print(\"true value:\",y_list[i])\n",
    "    if preds[i] == y_list[i]:\n",
    "        correct_count += 1\n",
    "        \n",
    "print(\"Testing accuracy:\", float(correct_count)/float(n_images))\n",
    "        "
   ]
  },
  {
   "cell_type": "markdown",
   "metadata": {},
   "source": [
    "## Q1. Plot training error and testing error vs steps \n",
    "\n",
    "For the same input settings, train and evaluate the model without regularization or dropout. Plot a graph with y axis being the training accuracy and test accuracy, and x-axis being the number of steps."
   ]
  },
  {
   "cell_type": "code",
   "execution_count": 10,
   "metadata": {},
   "outputs": [
    {
     "name": "stdout",
     "output_type": "stream",
     "text": [
      "num_steps: 1\n",
      "num_steps: 51\n",
      "num_steps: 101\n",
      "num_steps: 151\n",
      "num_steps: 201\n",
      "num_steps: 251\n",
      "num_steps: 301\n",
      "num_steps: 351\n",
      "num_steps: 401\n",
      "num_steps: 451\n",
      "num_steps: 501\n",
      "num_steps: 551\n",
      "num_steps: 601\n",
      "num_steps: 651\n",
      "num_steps: 701\n",
      "num_steps: 751\n"
     ]
    },
    {
     "data": {
      "image/png": "[encoded data removed]",
      "text/plain": [
       "<matplotlib.figure.Figure at 0x11de59f28>"
      ]
     },
     "metadata": {},
     "output_type": "display_data"
    }
   ],
   "source": [
    "#------------------ Your code here -------------------#\n",
    "tf.logging.set_verbosity(tf.logging.ERROR)\n",
    "\n",
    "max_steps = 800\n",
    "num_log_steps = 50\n",
    "num_steps_array = list(range(1,max_steps,num_log_steps))\n",
    "test_accuracy = []\n",
    "train_accuracy = []\n",
    "\n",
    "#define input function for training\n",
    "input_fn = tf.estimator.inputs.numpy_input_fn(\n",
    "x={'images': mnist.train.images}, y=mnist.train.labels,\n",
    "batch_size=batch_size, num_epochs=None, shuffle=True)\n",
    "\n",
    "#define input function for train error\n",
    "train_error_fn = tf.estimator.inputs.numpy_input_fn(\n",
    "x={'images': mnist.train.images}, y=mnist.train.labels,\n",
    "batch_size=batch_size, shuffle=False)\n",
    "\n",
    "#define input function for testing error\n",
    "test_error_fn = tf.estimator.inputs.numpy_input_fn(\n",
    "x={'images': mnist.test.images}, y=mnist.test.labels,\n",
    "batch_size=batch_size, shuffle=False)\n",
    "\n",
    "model = tf.estimator.Estimator(model_fn)\n",
    "\n",
    "#for num_steps in num_steps_array:\n",
    "for step_num in num_steps_array:\n",
    "    print(\"num_steps:\", step_num)\n",
    "    \n",
    "    #train model\n",
    "    #model.train(input_fn, steps=num_steps)\n",
    "    model.train(input_fn, steps=num_log_steps)\n",
    "\n",
    "    #evaluate training accuracy\n",
    "    train_accuracy.append(model.evaluate(train_error_fn)[\"accuracy\"])\n",
    "\n",
    "    #evaluate testing accuracy\n",
    "    test_accuracy.append(model.evaluate(test_error_fn)[\"accuracy\"])\n",
    "    \n",
    "import matplotlib.pyplot as plt\n",
    "\n",
    "plt.plot(num_steps_array, test_accuracy, label = \"test_accuracy\")\n",
    "plt.plot(num_steps_array, train_accuracy, label = \"train_accuracy\")\n",
    "plt.legend()\n",
    "plt.show()\n",
    "\n",
    "# -----------------------------------------------------#"
   ]
  },
  {
   "cell_type": "markdown",
   "metadata": {},
   "source": [
    "## Q2. Plot training error and testing error vs steps WITH regularization\n",
    "\n",
    "\n",
    "For the same input settings, train and evaluate the model with regularization. \n",
    "By trial and error, choose a regularization parameter that improves the teset accuracy (change the architecture such as the number of layers and/or the number of nodes in th elayer, batch size, etc if you need to).\n",
    "Plot a graph with y axis being the training accuracy and test accuracy, and x-axis being the number of steps.\n"
   ]
  },
  {
   "cell_type": "code",
   "execution_count": 11,
   "metadata": {},
   "outputs": [
    {
     "name": "stdout",
     "output_type": "stream",
     "text": [
      "Training...\n",
      "step number: 1\n",
      "step number: 51\n",
      "step number: 101\n",
      "step number: 151\n",
      "step number: 201\n",
      "step number: 251\n",
      "step number: 301\n",
      "step number: 351\n",
      "step number: 401\n",
      "step number: 451\n",
      "step number: 501\n",
      "step number: 551\n",
      "step number: 601\n",
      "step number: 651\n"
     ]
    },
    {
     "data": {
      "image/png": "[encoded data removed]",
      "text/plain": [
       "<matplotlib.figure.Figure at 0x127252f28>"
      ]
     },
     "metadata": {},
     "output_type": "display_data"
    }
   ],
   "source": [
    "#------------------ Your code here -------------------#\n",
    "def neural_net_reg(x_dict, reg_scale):\n",
    "    # TF Estimator input is a dict, in case of multiple inputs\n",
    "    x = x_dict['images']\n",
    "    # Hidden fully connected layer with 256 neurons\n",
    "    layer_1 = tf.layers.dense(x, n_hidden_1, kernel_regularizer=tf.contrib.layers.l2_regularizer(scale=reg_scale, scope=None))\n",
    "    # Hidden fully connected layer with 256 neurons\n",
    "    layer_2 = tf.layers.dense(layer_1, n_hidden_2, kernel_regularizer=tf.contrib.layers.l2_regularizer(scale=reg_scale, scope=None))\n",
    "    # Output fully connected layer with a neuron for each class\n",
    "    out_layer = tf.layers.dense(layer_2, num_classes)\n",
    "    return out_layer\n",
    "    \n",
    "def model_fn_reg(features, labels, params, mode):\n",
    "    # Build the neural network\n",
    "    #pass through regularization scale value to neural network constructor\n",
    "    logits = neural_net_reg(features, reg_scale=params['reg_scale'])\n",
    "    \n",
    "    # Predictions\n",
    "    pred_classes = tf.argmax(logits, axis=1)\n",
    "    pred_probas = tf.nn.softmax(logits)\n",
    "    \n",
    "    # If prediction mode, early return\n",
    "    if mode == tf.estimator.ModeKeys.PREDICT:\n",
    "        return tf.estimator.EstimatorSpec(mode, predictions=pred_classes) \n",
    "        \n",
    "    # Define loss and optimizer\n",
    "    loss_op = tf.reduce_mean(tf.nn.sparse_softmax_cross_entropy_with_logits(\n",
    "        logits=logits, labels=tf.cast(labels, dtype=tf.int32)))\n",
    "    optimizer = tf.train.GradientDescentOptimizer(learning_rate=learning_rate)\n",
    "    train_op = optimizer.minimize(loss_op, global_step=tf.train.get_global_step())\n",
    "    \n",
    "    # Evaluate the accuracy of the model\n",
    "    acc_op = tf.metrics.accuracy(labels=labels, predictions=pred_classes)\n",
    "    \n",
    "    # TF Estimators requires to return a EstimatorSpec, that specify\n",
    "    # the different ops for training, evaluating, ...\n",
    "    estim_specs = tf.estimator.EstimatorSpec(\n",
    "      mode=mode,\n",
    "      predictions=pred_classes,\n",
    "      loss=loss_op,\n",
    "      train_op=train_op,\n",
    "      eval_metric_ops={'accuracy': acc_op})\n",
    "\n",
    "    return estim_specs\n",
    "\n",
    "\n",
    "#*******************\n",
    "#code from Q1\n",
    "#modified to incorporate trial range of regularization scale values\n",
    "#*******************\n",
    "\n",
    "\n",
    "tf.logging.set_verbosity(tf.logging.ERROR)\n",
    "import matplotlib.pyplot as plt\n",
    "\n",
    "for r in [1.0]:         # regularization scale value of 1.0 was shown to perform best from [0.01, 0.1, 1.0, 10., 100.]\n",
    "    max_steps = 700\n",
    "    num_log_steps = 50\n",
    "    num_steps_array = list(range(1,max_steps,num_log_steps))\n",
    "    test_accuracy = []\n",
    "    train_accuracy = []\n",
    "\n",
    "    #define input function for training\n",
    "    input_fn = tf.estimator.inputs.numpy_input_fn(\n",
    "    x={'images': mnist.train.images}, y=mnist.train.labels,\n",
    "    batch_size=batch_size, num_epochs=None, shuffle=True)\n",
    "\n",
    "    #define input function for train error\n",
    "    train_error_fn = tf.estimator.inputs.numpy_input_fn(\n",
    "    x={'images': mnist.train.images}, y=mnist.train.labels,\n",
    "    batch_size=batch_size, shuffle=False)\n",
    "\n",
    "    #define input function for testing error\n",
    "    test_error_fn = tf.estimator.inputs.numpy_input_fn(\n",
    "    x={'images': mnist.test.images}, y=mnist.test.labels,\n",
    "    batch_size=batch_size, shuffle=False)\n",
    "\n",
    "    model = tf.estimator.Estimator(model_fn_reg, params={'reg_scale': r})\n",
    "    \n",
    "    print(\"Training...\")\n",
    "    #for num_steps in num_steps_array:\n",
    "    for step_num in num_steps_array:\n",
    "        print(\"step number:\", step_num)\n",
    "\n",
    "        #train model\n",
    "        model.train(input_fn, steps=num_log_steps)\n",
    "\n",
    "        #evaluate training accuracy\n",
    "        train_accuracy.append(model.evaluate(train_error_fn)[\"accuracy\"])\n",
    "\n",
    "        #evaluate testing accuracy\n",
    "        test_accuracy.append(model.evaluate(test_error_fn)[\"accuracy\"])\n",
    "\n",
    "    plt.plot(num_steps_array, test_accuracy, label = \"test_accuracy reg_scale={}\".format(r))\n",
    "    plt.plot(num_steps_array, train_accuracy, label = \"train_accuracy reg_scale={}\".format(r))\n",
    "    \n",
    "plt.legend()\n",
    "plt.show()\n",
    "\n",
    "# -----------------------------------------------------#"
   ]
  },
  {
   "cell_type": "markdown",
   "metadata": {},
   "source": [
    "## Q3. Plot training error and testing error vs steps with dropout\n",
    "\n",
    "\n",
    "For the same input settings, train and evaluate the model with dropout but without regularization. \n",
    "Through trial-and-error find a dropout rate that improves the test accuracy (change the architecture such as the number of layers and/or the number of nodes in th elayer, batch size, etc if you need to).\n",
    "Plot a graph with y axis being the training accuracy and test accuracy, and x-axis being the number of steps."
   ]
  },
  {
   "cell_type": "code",
   "execution_count": 12,
   "metadata": {},
   "outputs": [
    {
     "name": "stdout",
     "output_type": "stream",
     "text": [
      "Training...\n",
      "step number: 1\n",
      "step number: 51\n",
      "step number: 101\n",
      "step number: 151\n",
      "step number: 201\n",
      "step number: 251\n",
      "step number: 301\n",
      "step number: 351\n",
      "step number: 401\n",
      "step number: 451\n",
      "step number: 501\n",
      "step number: 551\n",
      "step number: 601\n",
      "step number: 651\n"
     ]
    },
    {
     "data": {
      "image/png": "[encoded data removed]",
      "text/plain": [
       "<matplotlib.figure.Figure at 0x126d30b38>"
      ]
     },
     "metadata": {},
     "output_type": "display_data"
    }
   ],
   "source": [
    "#------------------ Your code here -------------------#\n",
    "def neural_net_reg(x_dict, reg_scale):\n",
    "    # TF Estimator input is a dict, in case of multiple inputs\n",
    "    x = x_dict['images']\n",
    "    # Hidden fully connected layer with 256 neurons\n",
    "    layer_1 = tf.layers.dense(x, n_hidden_1, kernel_regularizer=tf.contrib.layers.l2_regularizer(scale=reg_scale, scope=None))\n",
    "    # Hidden fully connected layer with 256 neurons\n",
    "    layer_2 = tf.layers.dense(layer_1, n_hidden_2, kernel_regularizer=tf.contrib.layers.l2_regularizer(scale=reg_scale, scope=None))\n",
    "    # Output fully connected layer with a neuron for each class\n",
    "    out_layer = tf.layers.dense(layer_2, num_classes)\n",
    "    return out_layer\n",
    "    \n",
    "def model_fn_reg(features, labels, params, mode):\n",
    "    # Build the neural network\n",
    "    #pass through regularization scale value to neural network constructor\n",
    "    logits = neural_net_reg(features, reg_scale=params['reg_scale'])\n",
    "    \n",
    "    # Predictions\n",
    "    pred_classes = tf.argmax(logits, axis=1)\n",
    "    pred_probas = tf.nn.softmax(logits)\n",
    "    \n",
    "    # If prediction mode, early return\n",
    "    if mode == tf.estimator.ModeKeys.PREDICT:\n",
    "        return tf.estimator.EstimatorSpec(mode, predictions=pred_classes) \n",
    "        \n",
    "    # Define loss and optimizer\n",
    "    loss_op = tf.reduce_mean(tf.nn.sparse_softmax_cross_entropy_with_logits(\n",
    "        logits=logits, labels=tf.cast(labels, dtype=tf.int32)))\n",
    "    optimizer = tf.train.GradientDescentOptimizer(learning_rate=learning_rate)\n",
    "    train_op = optimizer.minimize(loss_op, global_step=tf.train.get_global_step())\n",
    "    \n",
    "    # Evaluate the accuracy of the model\n",
    "    acc_op = tf.metrics.accuracy(labels=labels, predictions=pred_classes)\n",
    "    \n",
    "    # TF Estimators requires to return a EstimatorSpec, that specify\n",
    "    # the different ops for training, evaluating, ...\n",
    "    estim_specs = tf.estimator.EstimatorSpec(\n",
    "      mode=mode,\n",
    "      predictions=pred_classes,\n",
    "      loss=loss_op,\n",
    "      train_op=train_op,\n",
    "      eval_metric_ops={'accuracy': acc_op})\n",
    "\n",
    "    return estim_specs\n",
    "\n",
    "\n",
    "#*******************\n",
    "#code from Q1\n",
    "#modified to incorporate trial range of regularization scale values\n",
    "#*******************\n",
    "\n",
    "\n",
    "tf.logging.set_verbosity(tf.logging.ERROR)\n",
    "import matplotlib.pyplot as plt\n",
    "\n",
    "for r in [1.0]:         # regularization scale value of 1.0 was shown to perform best from [0.01, 0.1, 1.0, 10., 100.]\n",
    "    max_steps = 700\n",
    "    num_log_steps = 50\n",
    "    num_steps_array = list(range(1,max_steps,num_log_steps))\n",
    "    test_accuracy = []\n",
    "    train_accuracy = []\n",
    "\n",
    "    #define input function for training\n",
    "    input_fn = tf.estimator.inputs.numpy_input_fn(\n",
    "    x={'images': mnist.train.images}, y=mnist.train.labels,\n",
    "    batch_size=batch_size, num_epochs=None, shuffle=True)\n",
    "\n",
    "    #define input function for train error\n",
    "    train_error_fn = tf.estimator.inputs.numpy_input_fn(\n",
    "    x={'images': mnist.train.images}, y=mnist.train.labels,\n",
    "    batch_size=batch_size, shuffle=False)\n",
    "\n",
    "    #define input function for testing error\n",
    "    test_error_fn = tf.estimator.inputs.numpy_input_fn(\n",
    "    x={'images': mnist.test.images}, y=mnist.test.labels,\n",
    "    batch_size=batch_size, shuffle=False)\n",
    "\n",
    "    model = tf.estimator.Estimator(model_fn_reg, params={'reg_scale': r})\n",
    "    \n",
    "    print(\"Training...\")\n",
    "    #for num_steps in num_steps_array:\n",
    "    for step_num in num_steps_array:\n",
    "        print(\"step number:\", step_num)\n",
    "\n",
    "        #train model\n",
    "        model.train(input_fn, steps=num_log_steps)\n",
    "\n",
    "        #evaluate training accuracy\n",
    "        train_accuracy.append(model.evaluate(train_error_fn)[\"accuracy\"])\n",
    "\n",
    "        #evaluate testing accuracy\n",
    "        test_accuracy.append(model.evaluate(test_error_fn)[\"accuracy\"])\n",
    "\n",
    "    plt.plot(num_steps_array, test_accuracy, label = \"test_accuracy reg_scale={}\".format(r))\n",
    "    plt.plot(num_steps_array, train_accuracy, label = \"train_accuracy reg_scale={}\".format(r))\n",
    "    \n",
    "plt.legend()\n",
    "plt.show()\n",
    "\n",
    "# -----------------------------------------------------#"
   ]
  },
  {
   "cell_type": "code",
   "execution_count": null,
   "metadata": {
    "collapsed": true
   },
   "outputs": [],
   "source": []
  },
  {
   "cell_type": "code",
   "execution_count": null,
   "metadata": {
    "collapsed": true
   },
   "outputs": [],
   "source": []
  }
 ],
 "metadata": {
  "kernelspec": {
   "display_name": "Python 3",
   "language": "python",
   "name": "python3"
  },
  "language_info": {
   "codemirror_mode": {
    "name": "ipython",
    "version": 3
   },
   "file_extension": ".py",
   "mimetype": "text/x-python",
   "name": "python",
   "nbconvert_exporter": "python",
   "pygments_lexer": "ipython3",
   "version": "3.6.1"
  }
 },
 "nbformat": 4,
 "nbformat_minor": 2
}
