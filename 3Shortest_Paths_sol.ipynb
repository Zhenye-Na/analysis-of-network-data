{
 "cells": [
  {
   "cell_type": "markdown",
   "metadata": {},
   "source": [
    "# Shortest Paths\n",
    "\n",
    "In this exercise, we will use shortest path functions. You are given a directed graph as an adjacency matrix stored in '3directedgraph.csv'. The value of an entry in the $i$-th row and $j$-th column in the matrix corresponds to the length attribute of edge $(i,j)$. Your first task is to read this file and store the graph as a Networkx DiGraph. Note that the nodes must be labelled $1$ through $20$."
   ]
  },
  {
   "cell_type": "code",
   "execution_count": 1,
   "metadata": {},
   "outputs": [],
   "source": [
    "import numpy as np\n",
    "import csv\n",
    "import networkx as nx\n",
    "\n",
    "#---------- Your code here ------------#\n",
    "G = nx.DiGraph()\n",
    "with open('3directedgraph.csv', newline='') as csvfile:\n",
    "    datareader = csv.reader(csvfile, delimiter=',')\n",
    "    i = 1\n",
    "    for row in datareader:\n",
    "        for j in range(1,len(row)+1):\n",
    "            if int(row[j-1]) != 0:\n",
    "                G.add_edge(i,j,length=int(row[j-1]))\n",
    "        i += 1     \n",
    "#--------------------------------------#"
   ]
  },
  {
   "cell_type": "markdown",
   "metadata": {
    "collapsed": true
   },
   "source": [
    "We will now use some of the __[shortest path algorithms](https://networkx.github.io/documentation/networkx-1.10/reference/algorithms.shortest_paths.html)__ in Networkx to compute the following."
   ]
  },
  {
   "cell_type": "markdown",
   "metadata": {},
   "source": [
    "### Q1. What is the length of a shortest path from node $1$ to node $18$? Also, what is the path?"
   ]
  },
  {
   "cell_type": "code",
   "execution_count": 2,
   "metadata": {},
   "outputs": [
    {
     "name": "stdout",
     "output_type": "stream",
     "text": [
      "5\n",
      "[1, 20, 9, 18]\n"
     ]
    }
   ],
   "source": [
    "#---------- Your code here ------------#\n",
    "print(nx.shortest_path_length(G, source=1, target=18, weight='length'))\n",
    "print(nx.shortest_path(G, source=1, target=18, weight='length'))\n",
    "#--------------------------------------#"
   ]
  },
  {
   "cell_type": "markdown",
   "metadata": {},
   "source": [
    "### Q2. What is the length of a shortest path from node $1$ to node $18$, that *does* pass through node $19$? Also, what is the path? (you can travel the same edge twice if you need to)"
   ]
  },
  {
   "cell_type": "code",
   "execution_count": 3,
   "metadata": {},
   "outputs": [
    {
     "name": "stdout",
     "output_type": "stream",
     "text": [
      "8\n",
      "[1, 20, 19, 18]\n"
     ]
    }
   ],
   "source": [
    "#---------- Your code here ------------#\n",
    "print(nx.shortest_path_length(G, source=1, target=19, weight='length')+nx.shortest_path_length(G, source=19, target=18, weight='length'))\n",
    "print(nx.shortest_path(G, source=1, target=19, weight='length')+nx.shortest_path(G, source=19, target=18, weight='length')[1:])\n",
    "#--------------------------------------#\n"
   ]
  },
  {
   "cell_type": "markdown",
   "metadata": {},
   "source": [
    "### Q3. What is the length of a shortest path from node $1$ to node $18$, that *does not* pass through node $9$? Also, what is the path?"
   ]
  },
  {
   "cell_type": "code",
   "execution_count": 4,
   "metadata": {},
   "outputs": [
    {
     "name": "stdout",
     "output_type": "stream",
     "text": [
      "7\n",
      "[1, 20, 12, 18]\n"
     ]
    }
   ],
   "source": [
    "#---------- Your code here ------------#\n",
    "G_copy = nx.DiGraph()\n",
    "for (i,j) in G.edges():\n",
    "    G_copy.add_edge(i,j,length=int(G[i][j]['length']))\n",
    "G_copy.remove_node(9)\n",
    "print(nx.shortest_path_length(G_copy, source=1, target=18, weight='length'))\n",
    "print(nx.shortest_path(G_copy, source=1, target=18, weight='length'))\n",
    "#--------------------------------------#"
   ]
  },
  {
   "cell_type": "markdown",
   "metadata": {},
   "source": [
    "### Q4. What is the length of a shortest path from node $1$ to node $18$, that *does* pass through edge $(5,6)$? Also, what is the path?"
   ]
  },
  {
   "cell_type": "code",
   "execution_count": 5,
   "metadata": {},
   "outputs": [
    {
     "name": "stdout",
     "output_type": "stream",
     "text": [
      "16\n",
      "[1, 20, 5, 6, 7, 18]\n"
     ]
    }
   ],
   "source": [
    "#---------- Your code here ------------#\n",
    "print(nx.shortest_path_length(G, source=1, target=5, weight='length')+G[5][6]['length']+nx.shortest_path_length(G, source=6, target=18, weight='length'))\n",
    "print(nx.shortest_path(G, source=1, target=5, weight='length')+nx.shortest_path(G, source=6, target=18, weight='length'))\n",
    "#--------------------------------------#"
   ]
  },
  {
   "cell_type": "code",
   "execution_count": null,
   "metadata": {
    "collapsed": true
   },
   "outputs": [],
   "source": []
  }
 ],
 "metadata": {
  "kernelspec": {
   "display_name": "Python 3",
   "language": "python",
   "name": "python3"
  },
  "language_info": {
   "codemirror_mode": {
    "name": "ipython",
    "version": 3
   },
   "file_extension": ".py",
   "mimetype": "text/x-python",
   "name": "python",
   "nbconvert_exporter": "python",
   "pygments_lexer": "ipython3",
   "version": "3.6.1"
  }
 },
 "nbformat": 4,
 "nbformat_minor": 2
}
