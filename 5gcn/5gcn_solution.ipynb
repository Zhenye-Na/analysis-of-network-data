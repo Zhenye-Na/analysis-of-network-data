{
 "cells": [
  {
   "cell_type": "markdown",
   "metadata": {},
   "source": [
    "## Graph Neural Networks\n",
    "\n",
    "We now use Tensorflow to classify nodes in a graph using Graph Convolution Networks.\n",
    "\n",
    "First, install gcn on your machine using the 'python setup.py install' command."
   ]
  },
  {
   "cell_type": "markdown",
   "metadata": {},
   "source": [
    "# Exercise for semisupervised classification on citation networks"
   ]
  },
  {
   "cell_type": "code",
   "execution_count": 1,
   "metadata": {
    "collapsed": true
   },
   "outputs": [],
   "source": [
    "from __future__ import division\n",
    "from __future__ import print_function\n",
    "\n",
    "import time\n",
    "import tensorflow as tf\n",
    "from gcn.utils import *\n",
    "from gcn.models import Model,MLP\n",
    "from gcn.layers import *"
   ]
  },
  {
   "cell_type": "code",
   "execution_count": 2,
   "metadata": {
    "collapsed": true
   },
   "outputs": [],
   "source": [
    "# Set random seed\n",
    "seed = 123\n",
    "np.random.seed(seed)\n",
    "tf.set_random_seed(seed)\n",
    "\n",
    "# Settings\n",
    "flags = tf.app.flags\n",
    "FLAGS = flags.FLAGS\n",
    "flags.DEFINE_string('dataset', 'cora', 'Dataset string.')  # 'cora', 'citeseer', 'pubmed'\n",
    "flags.DEFINE_string('dataset_2', 'citeseer', 'Dataset_2 string.')  # 'cora', 'citeseer', 'pubmed'\n",
    "flags.DEFINE_string('model', 'gcn', 'Model string.')  # 'gcn', 'gcn_cheby', 'dense'\n",
    "flags.DEFINE_float('learning_rate', 0.01, 'Initial learning rate.')\n",
    "#flags.DEFINE_float('learning_rate', 0.1, 'Initial learning rate.')\n",
    "flags.DEFINE_integer('epochs', 200, 'Number of epochs to train.')\n",
    "flags.DEFINE_integer('hidden1', 16, 'Number of units in hidden layer 1.')\n",
    "flags.DEFINE_float('dropout', 0.5, 'Dropout rate (1 - keep probability).')\n",
    "#flags.DEFINE_float('dropout', 0., 'Dropout rate (1 - keep probability).')\n",
    "flags.DEFINE_float('weight_decay', 5e-4, 'Weight for L2 loss on embedding matrix.')\n",
    "#flags.DEFINE_float('weight_decay', 0, 'Weight for L2 loss on embedding matrix.')\n",
    "flags.DEFINE_integer('early_stopping', 100, 'Tolerance for early stopping (# of epochs).')\n",
    "flags.DEFINE_integer('max_degree', 3, 'Maximum Chebyshev polynomial degree.')"
   ]
  },
  {
   "cell_type": "code",
   "execution_count": 3,
   "metadata": {
    "collapsed": true
   },
   "outputs": [],
   "source": [
    "def masked_softmax_cross_entropy(preds, labels, mask):\n",
    "    \"\"\"Softmax cross-entropy loss with masking.\"\"\"\n",
    "    loss = tf.nn.softmax_cross_entropy_with_logits(logits=preds, labels=labels)\n",
    "    mask = tf.cast(mask, dtype=tf.float32)\n",
    "    mask /= tf.reduce_mean(mask)\n",
    "    loss *= mask\n",
    "    return tf.reduce_mean(loss)\n",
    "\n",
    "def masked_mean_square_error(preds,labels,mask):\n",
    "    \"\"\" L-2 loss \"\"\"\n",
    "    loss = tf.nn.l2_loss(preds - labels)\n",
    "    mask = tf.cast(mask, dtype=tf.float32)\n",
    "    mask /= tf.reduce_mean(mask)\n",
    "    loss *= mask\n",
    "    return tf.reduce_mean(loss)\n",
    "\n",
    "def masked_accuracy(preds, labels, mask):\n",
    "    \"\"\"Accuracy with masking.\"\"\"\n",
    "    correct_prediction = tf.equal(tf.argmax(preds, 1), tf.argmax(labels, 1))\n",
    "    accuracy_all = tf.cast(correct_prediction, tf.float32)\n",
    "    mask = tf.cast(mask, dtype=tf.float32)\n",
    "    mask /= tf.reduce_mean(mask)\n",
    "    accuracy_all *= mask\n",
    "    return tf.reduce_mean(accuracy_all)"
   ]
  },
  {
   "cell_type": "code",
   "execution_count": 4,
   "metadata": {
    "collapsed": true
   },
   "outputs": [],
   "source": [
    "class GCN(Model):\n",
    "    def __init__(self, placeholders, input_dim, **kwargs):\n",
    "        super(GCN, self).__init__(**kwargs)\n",
    "\n",
    "        self.inputs = placeholders['features']\n",
    "        self.input_dim = input_dim\n",
    "        # self.input_dim = self.inputs.get_shape().as_list()[1]  # To be supported in future Tensorflow versions\n",
    "        self.output_dim = placeholders['labels'].get_shape().as_list()[1]\n",
    "        self.placeholders = placeholders\n",
    "\n",
    "        self.optimizer = tf.train.AdamOptimizer(learning_rate=FLAGS.learning_rate)\n",
    "\n",
    "        self.build()\n",
    "\n",
    "    def _loss(self):\n",
    "        # Weight decay loss\n",
    "        for var in self.layers[0].vars.values():\n",
    "            self.loss += FLAGS.weight_decay * tf.nn.l2_loss(var)\n",
    "\n",
    "        # Cross entropy error\n",
    "        self.loss += masked_mean_square_error(self.outputs, self.placeholders['labels'],\n",
    "                                              self.placeholders['labels_mask'])\n",
    "        # self.loss += masked_softmax_cross_entropy(self.outputs, self.placeholders['labels'],\n",
    "        #                                           self.placeholders['labels_mask'])\n",
    "\n",
    "    def _accuracy(self):\n",
    "        self.accuracy = masked_accuracy(self.outputs, self.placeholders['labels'],\n",
    "                                        self.placeholders['labels_mask'])\n",
    "\n",
    "    def _build(self):\n",
    "\n",
    "        self.layers.append(GraphConvolution(input_dim=self.input_dim,\n",
    "                                            output_dim=FLAGS.hidden1,\n",
    "                                            placeholders=self.placeholders,\n",
    "                                            act=tf.nn.relu,\n",
    "                                            dropout=True,\n",
    "                                            sparse_inputs=True,\n",
    "                                            logging=self.logging))\n",
    "\n",
    "        self.layers.append(GraphConvolution(input_dim=FLAGS.hidden1,\n",
    "                                            output_dim=self.output_dim,\n",
    "                                            placeholders=self.placeholders,\n",
    "                                            act=lambda x: x,\n",
    "                                            dropout=True,\n",
    "                                            logging=self.logging))\n",
    "\n",
    "    def predict(self):\n",
    "        return tf.nn.softmax(self.outputs)"
   ]
  },
  {
   "cell_type": "code",
   "execution_count": 5,
   "metadata": {
    "collapsed": true
   },
   "outputs": [],
   "source": [
    "def preprocess_adj(adj):\n",
    "    \"\"\"Preprocessing of adjacency matrix for simple GCN model and conversion to tuple representation.\"\"\"\n",
    "    adj_normalized = normalize_adj(adj + sp.eye(adj.shape[0]))\n",
    "    return sparse_to_tuple(adj_normalized)\n",
    "#    adj_square = np.power(adj,2).tocoo()\n",
    "#    return sparse_to_tuple(adj)\n"
   ]
  },
  {
   "cell_type": "code",
   "execution_count": 6,
   "metadata": {
    "collapsed": true
   },
   "outputs": [],
   "source": [
    "# Load data\n",
    "adj, features, y_train, y_val, y_test, train_mask, val_mask, test_mask = load_data(FLAGS.dataset)\n",
    "\n",
    "# Some preprocessing\n",
    "features = preprocess_features(features)\n",
    "if FLAGS.model == 'gcn':\n",
    "    support = [preprocess_adj(adj)]\n",
    "    num_supports = 1\n",
    "    model_func = GCN\n",
    "elif FLAGS.model == 'gcn_cheby':\n",
    "    support = chebyshev_polynomials(adj, FLAGS.max_degree)\n",
    "    num_supports = 1 + FLAGS.max_degree\n",
    "    model_func = GCN\n",
    "elif FLAGS.model == 'dense':\n",
    "    support = [preprocess_adj(adj)]  # Not used\n",
    "    num_supports = 1\n",
    "    model_func = MLP\n",
    "else:\n",
    "    raise ValueError('Invalid argument for model: ' + str(FLAGS.model))\n",
    "\n",
    "# Define placeholders\n",
    "placeholders = {\n",
    "    'support': [tf.sparse_placeholder(tf.float32) for _ in range(num_supports)],\n",
    "    'features': tf.sparse_placeholder(tf.float32, shape=tf.constant(features[2], dtype=tf.int64)),\n",
    "    'labels': tf.placeholder(tf.float32, shape=(None, y_train.shape[1])),\n",
    "    'labels_mask': tf.placeholder(tf.int32),\n",
    "    'dropout': tf.placeholder_with_default(0., shape=()),\n",
    "    'num_features_nonzero': tf.placeholder(tf.int32)  # helper variable for sparse dropout\n",
    "}\n",
    "\n",
    "# Create model\n",
    "model = model_func(placeholders, input_dim=features[2][1], logging=True)\n",
    "\n",
    "# Initialize session\n",
    "sess = tf.Session()\n",
    "\n",
    "\n",
    "# Define model evaluation function\n",
    "def evaluate(features, support, labels, mask, placeholders):\n",
    "    t_test = time.time()\n",
    "    feed_dict_val = construct_feed_dict(features, support, labels, mask, placeholders)\n",
    "    outs_val = sess.run([model.loss, model.accuracy], feed_dict=feed_dict_val)\n",
    "    return outs_val[0], outs_val[1], (time.time() - t_test)"
   ]
  },
  {
   "cell_type": "code",
   "execution_count": 7,
   "metadata": {},
   "outputs": [
    {
     "name": "stdout",
     "output_type": "stream",
     "text": [
      "Epoch: 0001 train_loss= 70.30534 train_acc= 0.07143 val_loss= 248.96060 val_acc= 0.18400 time= 0.04883\n",
      "Epoch: 0002 train_loss= 69.51312 train_acc= 0.28571 val_loss= 247.73361 val_acc= 0.29600 time= 0.01511\n",
      "Epoch: 0003 train_loss= 69.11311 train_acc= 0.45714 val_loss= 246.32149 val_acc= 0.40200 time= 0.01950\n",
      "Epoch: 0004 train_loss= 68.73877 train_acc= 0.57857 val_loss= 244.89812 val_acc= 0.47600 time= 0.01779\n",
      "Epoch: 0005 train_loss= 67.98429 train_acc= 0.69286 val_loss= 243.58395 val_acc= 0.52400 time= 0.02154\n",
      "Epoch: 0006 train_loss= 67.54814 train_acc= 0.73571 val_loss= 242.55818 val_acc= 0.55200 time= 0.02131\n",
      "Epoch: 0007 train_loss= 67.09998 train_acc= 0.80714 val_loss= 241.80969 val_acc= 0.59600 time= 0.01913\n",
      "Epoch: 0008 train_loss= 66.38895 train_acc= 0.79286 val_loss= 241.22533 val_acc= 0.63000 time= 0.01874\n",
      "Epoch: 0009 train_loss= 65.86577 train_acc= 0.87143 val_loss= 240.75558 val_acc= 0.68000 time= 0.01603\n",
      "Epoch: 0010 train_loss= 65.51508 train_acc= 0.86429 val_loss= 240.41539 val_acc= 0.69400 time= 0.01290\n",
      "Epoch: 0011 train_loss= 65.18842 train_acc= 0.90714 val_loss= 240.24200 val_acc= 0.71800 time= 0.01247\n",
      "Epoch: 0012 train_loss= 65.18712 train_acc= 0.94286 val_loss= 240.26888 val_acc= 0.72200 time= 0.01364\n",
      "Epoch: 0013 train_loss= 64.57732 train_acc= 0.89286 val_loss= 240.45993 val_acc= 0.71200 time= 0.01572\n",
      "Epoch: 0014 train_loss= 64.08794 train_acc= 0.90714 val_loss= 240.76788 val_acc= 0.70800 time= 0.01728\n",
      "Epoch: 0015 train_loss= 63.74492 train_acc= 0.90714 val_loss= 241.08102 val_acc= 0.69600 time= 0.01528\n",
      "Epoch: 0016 train_loss= 63.34270 train_acc= 0.87857 val_loss= 241.38747 val_acc= 0.68600 time= 0.01716\n",
      "Epoch: 0017 train_loss= 62.80936 train_acc= 0.92857 val_loss= 241.60368 val_acc= 0.67400 time= 0.01291\n",
      "Epoch: 0018 train_loss= 62.27464 train_acc= 0.92857 val_loss= 241.74983 val_acc= 0.66800 time= 0.01289\n",
      "Epoch: 0019 train_loss= 62.46304 train_acc= 0.93571 val_loss= 241.84502 val_acc= 0.66200 time= 0.01390\n",
      "Epoch: 0020 train_loss= 61.90032 train_acc= 0.93571 val_loss= 241.91325 val_acc= 0.65800 time= 0.01354\n",
      "Epoch: 0021 train_loss= 61.61905 train_acc= 0.94286 val_loss= 241.94458 val_acc= 0.66200 time= 0.01319\n",
      "Epoch: 0022 train_loss= 61.31013 train_acc= 0.95000 val_loss= 241.99658 val_acc= 0.67000 time= 0.01317\n",
      "Epoch: 0023 train_loss= 61.38594 train_acc= 0.92857 val_loss= 242.08089 val_acc= 0.66400 time= 0.01361\n",
      "Epoch: 0024 train_loss= 61.18523 train_acc= 0.96429 val_loss= 242.16982 val_acc= 0.66000 time= 0.01294\n",
      "Epoch: 0025 train_loss= 60.85730 train_acc= 0.92857 val_loss= 242.30164 val_acc= 0.66000 time= 0.01250\n",
      "Epoch: 0026 train_loss= 60.31426 train_acc= 0.95000 val_loss= 242.44356 val_acc= 0.65800 time= 0.01562\n",
      "Epoch: 0027 train_loss= 59.97717 train_acc= 0.97143 val_loss= 242.60793 val_acc= 0.65600 time= 0.01849\n",
      "Epoch: 0028 train_loss= 60.47728 train_acc= 0.95000 val_loss= 242.78233 val_acc= 0.65200 time= 0.01662\n",
      "Epoch: 0029 train_loss= 59.88424 train_acc= 0.94286 val_loss= 243.00433 val_acc= 0.64400 time= 0.01492\n",
      "Epoch: 0030 train_loss= 59.20360 train_acc= 0.95000 val_loss= 243.28224 val_acc= 0.63800 time= 0.01772\n",
      "Epoch: 0031 train_loss= 58.93139 train_acc= 0.95714 val_loss= 243.58452 val_acc= 0.62800 time= 0.02270\n",
      "Epoch: 0032 train_loss= 59.11779 train_acc= 0.94286 val_loss= 243.89226 val_acc= 0.62400 time= 0.02265\n",
      "Epoch: 0033 train_loss= 59.13826 train_acc= 0.96429 val_loss= 244.14996 val_acc= 0.61400 time= 0.02455\n",
      "Epoch: 0034 train_loss= 59.05579 train_acc= 0.96429 val_loss= 244.37778 val_acc= 0.60600 time= 0.01933\n",
      "Epoch: 0035 train_loss= 58.61590 train_acc= 0.96429 val_loss= 244.58128 val_acc= 0.60000 time= 0.01556\n",
      "Epoch: 0036 train_loss= 58.16898 train_acc= 0.94286 val_loss= 244.74718 val_acc= 0.59400 time= 0.01997\n",
      "Epoch: 0037 train_loss= 57.93875 train_acc= 0.97857 val_loss= 244.89120 val_acc= 0.58600 time= 0.02193\n",
      "Epoch: 0038 train_loss= 58.34875 train_acc= 0.96429 val_loss= 245.04211 val_acc= 0.58200 time= 0.01431\n",
      "Epoch: 0039 train_loss= 58.53677 train_acc= 0.94286 val_loss= 245.12827 val_acc= 0.57000 time= 0.01374\n",
      "Epoch: 0040 train_loss= 57.53323 train_acc= 0.96429 val_loss= 245.20226 val_acc= 0.57400 time= 0.01368\n",
      "Epoch: 0041 train_loss= 57.75428 train_acc= 0.95714 val_loss= 245.29036 val_acc= 0.57200 time= 0.01349\n",
      "Epoch: 0042 train_loss= 57.53281 train_acc= 0.95714 val_loss= 245.35649 val_acc= 0.57000 time= 0.01273\n",
      "Epoch: 0043 train_loss= 57.49787 train_acc= 0.97857 val_loss= 245.41107 val_acc= 0.58000 time= 0.01235\n",
      "Epoch: 0044 train_loss= 57.47269 train_acc= 0.95714 val_loss= 245.43762 val_acc= 0.58000 time= 0.01215\n",
      "Epoch: 0045 train_loss= 57.06778 train_acc= 0.95000 val_loss= 245.47250 val_acc= 0.58200 time= 0.01233\n",
      "Epoch: 0046 train_loss= 56.62552 train_acc= 0.97857 val_loss= 245.54617 val_acc= 0.57800 time= 0.01261\n",
      "Epoch: 0047 train_loss= 57.10340 train_acc= 0.95000 val_loss= 245.67821 val_acc= 0.56800 time= 0.01299\n",
      "Epoch: 0048 train_loss= 56.56792 train_acc= 0.97857 val_loss= 245.79262 val_acc= 0.56000 time= 0.01268\n",
      "Epoch: 0049 train_loss= 56.82578 train_acc= 0.96429 val_loss= 245.95070 val_acc= 0.55400 time= 0.01598\n",
      "Epoch: 0050 train_loss= 56.64241 train_acc= 0.97143 val_loss= 246.09363 val_acc= 0.54600 time= 0.01744\n",
      "Epoch: 0051 train_loss= 56.70467 train_acc= 0.96429 val_loss= 246.22008 val_acc= 0.54600 time= 0.01661\n",
      "Epoch: 0052 train_loss= 56.96268 train_acc= 0.94286 val_loss= 246.30521 val_acc= 0.54000 time= 0.01259\n",
      "Epoch: 0053 train_loss= 56.00894 train_acc= 0.97857 val_loss= 246.37564 val_acc= 0.52800 time= 0.01307\n",
      "Epoch: 0054 train_loss= 55.87854 train_acc= 0.95714 val_loss= 246.42825 val_acc= 0.52800 time= 0.01387\n",
      "Epoch: 0055 train_loss= 56.36410 train_acc= 0.99286 val_loss= 246.41222 val_acc= 0.52600 time= 0.01338\n",
      "Epoch: 0056 train_loss= 55.54876 train_acc= 0.95714 val_loss= 246.42532 val_acc= 0.52600 time= 0.01431\n",
      "Epoch: 0057 train_loss= 56.41449 train_acc= 0.97143 val_loss= 246.47092 val_acc= 0.52000 time= 0.01950\n",
      "Epoch: 0058 train_loss= 55.70937 train_acc= 0.95714 val_loss= 246.58694 val_acc= 0.51800 time= 0.01261\n",
      "Epoch: 0059 train_loss= 55.64563 train_acc= 0.97857 val_loss= 246.67366 val_acc= 0.52200 time= 0.01436\n",
      "Epoch: 0060 train_loss= 56.37223 train_acc= 0.97143 val_loss= 246.77589 val_acc= 0.52000 time= 0.01273\n",
      "Epoch: 0061 train_loss= 56.01413 train_acc= 0.96429 val_loss= 246.88878 val_acc= 0.51000 time= 0.01258\n",
      "Epoch: 0062 train_loss= 55.74741 train_acc= 0.97857 val_loss= 247.01826 val_acc= 0.50600 time= 0.01502\n",
      "Epoch: 0063 train_loss= 55.76550 train_acc= 0.98571 val_loss= 247.10777 val_acc= 0.50400 time= 0.01998\n",
      "Epoch: 0064 train_loss= 55.75224 train_acc= 0.95714 val_loss= 247.17154 val_acc= 0.51200 time= 0.01414\n",
      "Epoch: 0065 train_loss= 55.37880 train_acc= 0.97857 val_loss= 247.22740 val_acc= 0.51000 time= 0.01406\n",
      "Epoch: 0066 train_loss= 55.03484 train_acc= 0.98571 val_loss= 247.20908 val_acc= 0.51600 time= 0.01285\n",
      "Epoch: 0067 train_loss= 54.95682 train_acc= 0.96429 val_loss= 247.18752 val_acc= 0.51200 time= 0.01380\n",
      "Epoch: 0068 train_loss= 54.64714 train_acc= 0.99286 val_loss= 247.15485 val_acc= 0.51200 time= 0.01578\n",
      "Epoch: 0069 train_loss= 55.10022 train_acc= 0.97143 val_loss= 247.12294 val_acc= 0.50600 time= 0.01367\n",
      "Epoch: 0070 train_loss= 54.28703 train_acc= 0.97857 val_loss= 247.10889 val_acc= 0.49600 time= 0.01792\n",
      "Epoch: 0071 train_loss= 55.46737 train_acc= 0.95000 val_loss= 247.11449 val_acc= 0.49800 time= 0.01790\n",
      "Epoch: 0072 train_loss= 54.87784 train_acc= 0.95714 val_loss= 247.18515 val_acc= 0.48600 time= 0.01640\n",
      "Epoch: 0073 train_loss= 54.80952 train_acc= 0.99286 val_loss= 247.31596 val_acc= 0.48000 time= 0.02031\n",
      "Epoch: 0074 train_loss= 55.26064 train_acc= 0.97143 val_loss= 247.44698 val_acc= 0.47800 time= 0.01804\n",
      "Epoch: 0075 train_loss= 54.34774 train_acc= 0.97857 val_loss= 247.59702 val_acc= 0.47200 time= 0.02456\n",
      "Epoch: 0076 train_loss= 54.21735 train_acc= 0.96429 val_loss= 247.67725 val_acc= 0.47000 time= 0.01943\n",
      "Epoch: 0077 train_loss= 53.51711 train_acc= 0.99286 val_loss= 247.66876 val_acc= 0.46200 time= 0.02079\n",
      "Epoch: 0078 train_loss= 54.44504 train_acc= 0.96429 val_loss= 247.65144 val_acc= 0.46600 time= 0.01831\n",
      "Epoch: 0079 train_loss= 54.39682 train_acc= 0.95714 val_loss= 247.65509 val_acc= 0.47200 time= 0.01626\n",
      "Epoch: 0080 train_loss= 54.83321 train_acc= 0.97857 val_loss= 247.60390 val_acc= 0.47200 time= 0.01443\n",
      "Epoch: 0081 train_loss= 54.93000 train_acc= 0.97143 val_loss= 247.53296 val_acc= 0.47200 time= 0.01287\n",
      "Epoch: 0082 train_loss= 53.91839 train_acc= 0.98571 val_loss= 247.49794 val_acc= 0.46800 time= 0.01307\n",
      "Epoch: 0083 train_loss= 54.21942 train_acc= 0.97143 val_loss= 247.48892 val_acc= 0.46400 time= 0.01288\n"
     ]
    },
    {
     "name": "stdout",
     "output_type": "stream",
     "text": [
      "Epoch: 0084 train_loss= 54.26834 train_acc= 0.97857 val_loss= 247.55428 val_acc= 0.46200 time= 0.01421\n",
      "Epoch: 0085 train_loss= 53.28731 train_acc= 0.97143 val_loss= 247.62164 val_acc= 0.46000 time= 0.01544\n",
      "Epoch: 0086 train_loss= 53.82362 train_acc= 0.97143 val_loss= 247.66472 val_acc= 0.46000 time= 0.01731\n",
      "Epoch: 0087 train_loss= 54.12738 train_acc= 0.96429 val_loss= 247.69556 val_acc= 0.46000 time= 0.01674\n",
      "Epoch: 0088 train_loss= 54.02099 train_acc= 0.97143 val_loss= 247.73383 val_acc= 0.45600 time= 0.01282\n",
      "Epoch: 0089 train_loss= 54.42538 train_acc= 0.97143 val_loss= 247.80040 val_acc= 0.45800 time= 0.01318\n",
      "Epoch: 0090 train_loss= 54.70245 train_acc= 0.96429 val_loss= 247.91379 val_acc= 0.46000 time= 0.01427\n",
      "Epoch: 0091 train_loss= 54.62503 train_acc= 0.96429 val_loss= 248.02254 val_acc= 0.46000 time= 0.01331\n",
      "Epoch: 0092 train_loss= 54.10172 train_acc= 0.97143 val_loss= 248.16452 val_acc= 0.46000 time= 0.01268\n",
      "Epoch: 0093 train_loss= 52.92982 train_acc= 0.97857 val_loss= 248.31393 val_acc= 0.46000 time= 0.01300\n",
      "Epoch: 0094 train_loss= 53.02406 train_acc= 0.97143 val_loss= 248.43668 val_acc= 0.45200 time= 0.01391\n",
      "Epoch: 0095 train_loss= 54.17970 train_acc= 0.95714 val_loss= 248.51350 val_acc= 0.45200 time= 0.01228\n",
      "Epoch: 0096 train_loss= 54.98588 train_acc= 0.95000 val_loss= 248.57597 val_acc= 0.43000 time= 0.01248\n",
      "Epoch: 0097 train_loss= 53.56714 train_acc= 0.98571 val_loss= 248.64822 val_acc= 0.42800 time= 0.01231\n",
      "Epoch: 0098 train_loss= 54.08790 train_acc= 0.98571 val_loss= 248.74014 val_acc= 0.42600 time= 0.01451\n",
      "Epoch: 0099 train_loss= 53.89722 train_acc= 0.97143 val_loss= 248.80772 val_acc= 0.41800 time= 0.01525\n",
      "Epoch: 0100 train_loss= 54.38625 train_acc= 0.96429 val_loss= 248.89099 val_acc= 0.41800 time= 0.01797\n",
      "Epoch: 0101 train_loss= 52.94248 train_acc= 0.96429 val_loss= 248.98772 val_acc= 0.42200 time= 0.01447\n",
      "Epoch: 0102 train_loss= 54.36436 train_acc= 0.94286 val_loss= 249.04263 val_acc= 0.41800 time= 0.01310\n",
      "Early stopping...\n",
      "Optimization Finished!\n"
     ]
    }
   ],
   "source": [
    "# Initialize weights\n",
    "sess.run(tf.global_variables_initializer())\n",
    "\n",
    "train_loss = []\n",
    "validation_loss = []\n",
    "train_accuracy = []\n",
    "validation_accuracy = []\n",
    "\n",
    "\n",
    "# Train model\n",
    "for epoch in range(FLAGS.epochs):\n",
    "\n",
    "    t = time.time()\n",
    "    # Construct feed dictionary\n",
    "    feed_dict = construct_feed_dict(features, support, y_train, train_mask, placeholders)\n",
    "    feed_dict.update({placeholders['dropout']: FLAGS.dropout})\n",
    "\n",
    "    # Training step\n",
    "    outs = sess.run([model.opt_op, model.loss, model.accuracy], feed_dict=feed_dict)\n",
    "    \n",
    "    # Validation\n",
    "    cost, acc, duration = evaluate(features, support, y_val, val_mask, placeholders)\n",
    "    validation_loss.append(cost)\n",
    "    validation_accuracy.append(acc)\n",
    "    train_loss.append(outs[1])\n",
    "    train_accuracy.append(outs[2])\n",
    "\n",
    "    # Print results\n",
    "    print(\"Epoch:\", '%04d' % (epoch + 1), \"train_loss=\", \"{:.5f}\".format(outs[1]),\n",
    "          \"train_acc=\", \"{:.5f}\".format(outs[2]), \"val_loss=\", \"{:.5f}\".format(cost),\n",
    "          \"val_acc=\", \"{:.5f}\".format(acc), \"time=\", \"{:.5f}\".format(time.time() - t))\n",
    "\n",
    "    if epoch > FLAGS.early_stopping and validation_loss[-1] > np.mean(validation_loss[-(FLAGS.early_stopping+1):-1]):\n",
    "        print(\"Early stopping...\")\n",
    "        break\n",
    "\n",
    "print(\"Optimization Finished!\")"
   ]
  },
  {
   "cell_type": "code",
   "execution_count": 8,
   "metadata": {},
   "outputs": [
    {
     "name": "stdout",
     "output_type": "stream",
     "text": [
      "Test set results: cost= 480.59225 accuracy= 0.47400 time= 0.00769\n"
     ]
    }
   ],
   "source": [
    "# Testing\n",
    "test_cost, test_acc, test_duration = evaluate(features, support, y_test, test_mask, placeholders)\n",
    "print(\"Test set results:\", \"cost=\", \"{:.5f}\".format(test_cost),\n",
    "      \"accuracy=\", \"{:.5f}\".format(test_acc), \"time=\", \"{:.5f}\".format(test_duration))"
   ]
  },
  {
   "cell_type": "code",
   "execution_count": 9,
   "metadata": {},
   "outputs": [
    {
     "data": {
      "image/png": "[encoded data removed]",
      "text/plain": [
       "<matplotlib.figure.Figure at 0x1199c0828>"
      ]
     },
     "metadata": {},
     "output_type": "display_data"
    }
   ],
   "source": [
    "import matplotlib.pyplot as plt\n",
    "plt.figure()\n",
    "plt.plot(train_accuracy,label = 'train_accuracy')\n",
    "plt.plot(train_loss,label = 'train_loss')\n",
    "plt.plot(validation_accuracy, label='validation_accuracy')\n",
    "plt.plot(validation_loss,label='validaton_loss')\n",
    "plt.legend()\n",
    "plt.show()"
   ]
  },
  {
   "cell_type": "markdown",
   "metadata": {},
   "source": [
    "# 1. With no weight dacy / dropout  (covered in class)"
   ]
  },
  {
   "cell_type": "markdown",
   "metadata": {},
   "source": [
    "Make a plot of training accuracy, training loss, validation accuracy and validation loss against the number of steps **without weight decay and without dropout**."
   ]
  },
  {
   "cell_type": "markdown",
   "metadata": {},
   "source": [
    "# 2. Change it to $A^2$ (covered in class)"
   ]
  },
  {
   "cell_type": "markdown",
   "metadata": {},
   "source": [
    "Make a plot of training accuracy, training loss, validation accuracy and validation loss against the number of steps **after changing the adjacency matrix to $A^2$ **."
   ]
  },
  {
   "cell_type": "markdown",
   "metadata": {},
   "source": [
    "# 3. Change to the $L_2$ loss"
   ]
  },
  {
   "cell_type": "markdown",
   "metadata": {},
   "source": [
    "Make a plot of training accuracy, training loss, validation accuracy and validation loss against the number of steps **with the loss function being $L_2$ loss**."
   ]
  },
  {
   "cell_type": "code",
   "execution_count": 10,
   "metadata": {},
   "outputs": [
    {
     "name": "stdout",
     "output_type": "stream",
     "text": [
      "Epoch: 0001 train_loss= 70.17213 train_acc= 0.07857 val_loss= 247.88293 val_acc= 0.19400 time= 0.01548\n",
      "Epoch: 0002 train_loss= 69.43874 train_acc= 0.22857 val_loss= 246.43976 val_acc= 0.27800 time= 0.01354\n",
      "Epoch: 0003 train_loss= 68.87204 train_acc= 0.42143 val_loss= 245.13405 val_acc= 0.42800 time= 0.01274\n",
      "Epoch: 0004 train_loss= 68.31245 train_acc= 0.56429 val_loss= 243.97650 val_acc= 0.53800 time= 0.01278\n",
      "Epoch: 0005 train_loss= 67.78450 train_acc= 0.63571 val_loss= 242.99306 val_acc= 0.61000 time= 0.01281\n",
      "Epoch: 0006 train_loss= 67.33092 train_acc= 0.70000 val_loss= 242.26442 val_acc= 0.62400 time= 0.01414\n",
      "Epoch: 0007 train_loss= 66.69719 train_acc= 0.80714 val_loss= 241.85512 val_acc= 0.63200 time= 0.01449\n",
      "Epoch: 0008 train_loss= 66.63135 train_acc= 0.81429 val_loss= 241.62746 val_acc= 0.63000 time= 0.01391\n",
      "Epoch: 0009 train_loss= 66.28365 train_acc= 0.77857 val_loss= 241.45602 val_acc= 0.63600 time= 0.01290\n",
      "Epoch: 0010 train_loss= 65.58755 train_acc= 0.82143 val_loss= 241.26761 val_acc= 0.64400 time= 0.01320\n",
      "Epoch: 0011 train_loss= 65.49610 train_acc= 0.87857 val_loss= 241.09497 val_acc= 0.65600 time= 0.01241\n",
      "Epoch: 0012 train_loss= 65.26701 train_acc= 0.85714 val_loss= 241.00870 val_acc= 0.65800 time= 0.01422\n",
      "Epoch: 0013 train_loss= 64.96433 train_acc= 0.88571 val_loss= 240.98927 val_acc= 0.66600 time= 0.01363\n",
      "Epoch: 0014 train_loss= 64.59863 train_acc= 0.93571 val_loss= 240.96651 val_acc= 0.66800 time= 0.01267\n",
      "Epoch: 0015 train_loss= 64.38953 train_acc= 0.87143 val_loss= 241.01428 val_acc= 0.67600 time= 0.01451\n",
      "Epoch: 0016 train_loss= 63.27377 train_acc= 0.90714 val_loss= 241.02864 val_acc= 0.67000 time= 0.01504\n",
      "Epoch: 0017 train_loss= 63.44402 train_acc= 0.94286 val_loss= 241.04686 val_acc= 0.67800 time= 0.01851\n",
      "Epoch: 0018 train_loss= 62.89306 train_acc= 0.96429 val_loss= 241.03188 val_acc= 0.68200 time= 0.01658\n",
      "Epoch: 0019 train_loss= 62.98011 train_acc= 0.94286 val_loss= 241.05370 val_acc= 0.68400 time= 0.01257\n",
      "Epoch: 0020 train_loss= 62.17611 train_acc= 0.91429 val_loss= 241.07043 val_acc= 0.67200 time= 0.01257\n",
      "Epoch: 0021 train_loss= 62.05483 train_acc= 0.95000 val_loss= 241.13063 val_acc= 0.66600 time= 0.01355\n",
      "Epoch: 0022 train_loss= 61.84432 train_acc= 0.94286 val_loss= 241.24071 val_acc= 0.66400 time= 0.01271\n",
      "Epoch: 0023 train_loss= 61.62558 train_acc= 0.97143 val_loss= 241.36104 val_acc= 0.66800 time= 0.01262\n",
      "Epoch: 0024 train_loss= 61.62121 train_acc= 0.92857 val_loss= 241.47551 val_acc= 0.66400 time= 0.01260\n",
      "Epoch: 0025 train_loss= 61.02090 train_acc= 0.95000 val_loss= 241.61833 val_acc= 0.66000 time= 0.01278\n",
      "Epoch: 0026 train_loss= 60.87886 train_acc= 0.94286 val_loss= 241.84119 val_acc= 0.65600 time= 0.01286\n",
      "Epoch: 0027 train_loss= 60.83726 train_acc= 0.97143 val_loss= 242.08049 val_acc= 0.65200 time= 0.01422\n",
      "Epoch: 0028 train_loss= 60.28828 train_acc= 0.97857 val_loss= 242.31438 val_acc= 0.64400 time= 0.01291\n",
      "Epoch: 0029 train_loss= 60.34363 train_acc= 0.95714 val_loss= 242.51634 val_acc= 0.64600 time= 0.01465\n",
      "Epoch: 0030 train_loss= 60.11247 train_acc= 0.96429 val_loss= 242.65210 val_acc= 0.63400 time= 0.01739\n",
      "Epoch: 0031 train_loss= 59.50899 train_acc= 0.96429 val_loss= 242.76445 val_acc= 0.63400 time= 0.01578\n",
      "Epoch: 0032 train_loss= 59.48114 train_acc= 0.97143 val_loss= 242.85008 val_acc= 0.63000 time= 0.01394\n",
      "Epoch: 0033 train_loss= 59.94939 train_acc= 0.95000 val_loss= 242.92482 val_acc= 0.62400 time= 0.01306\n",
      "Epoch: 0034 train_loss= 59.17621 train_acc= 0.96429 val_loss= 242.98749 val_acc= 0.62600 time= 0.01244\n",
      "Epoch: 0035 train_loss= 58.57167 train_acc= 0.97143 val_loss= 243.03836 val_acc= 0.62400 time= 0.01451\n",
      "Epoch: 0036 train_loss= 57.97660 train_acc= 0.97143 val_loss= 243.15273 val_acc= 0.61000 time= 0.01298\n",
      "Epoch: 0037 train_loss= 58.43418 train_acc= 0.95714 val_loss= 243.31248 val_acc= 0.60200 time= 0.01265\n",
      "Epoch: 0038 train_loss= 58.70406 train_acc= 0.97143 val_loss= 243.51222 val_acc= 0.59800 time= 0.01270\n",
      "Epoch: 0039 train_loss= 57.92134 train_acc= 0.98571 val_loss= 243.75664 val_acc= 0.59800 time= 0.04268\n",
      "Epoch: 0040 train_loss= 58.64090 train_acc= 0.93571 val_loss= 244.04034 val_acc= 0.59000 time= 0.01565\n",
      "Epoch: 0041 train_loss= 57.46902 train_acc= 0.97143 val_loss= 244.30869 val_acc= 0.58600 time= 0.01544\n",
      "Epoch: 0042 train_loss= 56.92758 train_acc= 0.97857 val_loss= 244.54048 val_acc= 0.58200 time= 0.02476\n",
      "Epoch: 0043 train_loss= 57.37325 train_acc= 0.97143 val_loss= 244.75961 val_acc= 0.58600 time= 0.02062\n",
      "Epoch: 0044 train_loss= 58.10430 train_acc= 0.97857 val_loss= 244.96335 val_acc= 0.58800 time= 0.01346\n",
      "Epoch: 0045 train_loss= 57.14798 train_acc= 0.98571 val_loss= 245.14822 val_acc= 0.58400 time= 0.01283\n",
      "Epoch: 0046 train_loss= 57.37749 train_acc= 0.95714 val_loss= 245.31644 val_acc= 0.58400 time= 0.01454\n",
      "Epoch: 0047 train_loss= 56.19595 train_acc= 1.00000 val_loss= 245.43094 val_acc= 0.57600 time= 0.01293\n",
      "Epoch: 0048 train_loss= 56.67159 train_acc= 0.97143 val_loss= 245.50830 val_acc= 0.57200 time= 0.01267\n",
      "Epoch: 0049 train_loss= 57.23817 train_acc= 0.97857 val_loss= 245.54219 val_acc= 0.57200 time= 0.01296\n",
      "Epoch: 0050 train_loss= 56.94776 train_acc= 0.97143 val_loss= 245.59143 val_acc= 0.57800 time= 0.01216\n",
      "Epoch: 0051 train_loss= 56.35590 train_acc= 0.96429 val_loss= 245.65019 val_acc= 0.56800 time= 0.01286\n",
      "Epoch: 0052 train_loss= 56.49995 train_acc= 0.99286 val_loss= 245.71982 val_acc= 0.57200 time= 0.01236\n",
      "Epoch: 0053 train_loss= 56.85714 train_acc= 0.98571 val_loss= 245.86496 val_acc= 0.55800 time= 0.01272\n",
      "Epoch: 0054 train_loss= 56.91386 train_acc= 0.98571 val_loss= 245.99747 val_acc= 0.56000 time= 0.01283\n",
      "Epoch: 0055 train_loss= 56.52957 train_acc= 0.99286 val_loss= 246.13150 val_acc= 0.55400 time= 0.01450\n",
      "Epoch: 0056 train_loss= 55.88757 train_acc= 0.99286 val_loss= 246.23320 val_acc= 0.55200 time= 0.01777\n",
      "Epoch: 0057 train_loss= 56.13735 train_acc= 0.98571 val_loss= 246.34686 val_acc= 0.54800 time= 0.01455\n",
      "Epoch: 0058 train_loss= 56.38074 train_acc= 0.95714 val_loss= 246.44264 val_acc= 0.54400 time= 0.01845\n",
      "Epoch: 0059 train_loss= 56.10804 train_acc= 0.97143 val_loss= 246.53639 val_acc= 0.53600 time= 0.02533\n",
      "Epoch: 0060 train_loss= 55.66180 train_acc= 0.96429 val_loss= 246.61923 val_acc= 0.53400 time= 0.02835\n",
      "Epoch: 0061 train_loss= 55.61399 train_acc= 0.97857 val_loss= 246.68141 val_acc= 0.53000 time= 0.01857\n",
      "Epoch: 0062 train_loss= 54.51307 train_acc= 0.98571 val_loss= 246.72133 val_acc= 0.51800 time= 0.01805\n",
      "Epoch: 0063 train_loss= 55.21593 train_acc= 0.97143 val_loss= 246.71893 val_acc= 0.51200 time= 0.02383\n",
      "Epoch: 0064 train_loss= 55.36450 train_acc= 0.94286 val_loss= 246.74988 val_acc= 0.50600 time= 0.01759\n",
      "Epoch: 0065 train_loss= 55.45452 train_acc= 0.97143 val_loss= 246.77132 val_acc= 0.50200 time= 0.02186\n",
      "Epoch: 0066 train_loss= 54.89481 train_acc= 0.97143 val_loss= 246.82120 val_acc= 0.50200 time= 0.08416\n",
      "Epoch: 0067 train_loss= 54.99895 train_acc= 0.95714 val_loss= 246.87027 val_acc= 0.50200 time= 0.01325\n",
      "Epoch: 0068 train_loss= 54.19506 train_acc= 0.96429 val_loss= 246.95396 val_acc= 0.50000 time= 0.01396\n",
      "Epoch: 0069 train_loss= 54.87012 train_acc= 0.99286 val_loss= 247.04855 val_acc= 0.49400 time= 0.01411\n",
      "Epoch: 0070 train_loss= 54.56659 train_acc= 0.97143 val_loss= 247.16914 val_acc= 0.48400 time= 0.01316\n",
      "Epoch: 0071 train_loss= 53.87317 train_acc= 0.98571 val_loss= 247.29747 val_acc= 0.48000 time= 0.01316\n",
      "Epoch: 0072 train_loss= 54.39629 train_acc= 0.96429 val_loss= 247.40341 val_acc= 0.47400 time= 0.01282\n",
      "Epoch: 0073 train_loss= 54.94928 train_acc= 0.97857 val_loss= 247.44949 val_acc= 0.46400 time= 0.01427\n",
      "Epoch: 0074 train_loss= 54.60042 train_acc= 0.97143 val_loss= 247.47731 val_acc= 0.46000 time= 0.01618\n",
      "Epoch: 0075 train_loss= 54.18063 train_acc= 0.96429 val_loss= 247.49615 val_acc= 0.46000 time= 0.01664\n",
      "Epoch: 0076 train_loss= 55.39570 train_acc= 0.98571 val_loss= 247.51421 val_acc= 0.47000 time= 0.01694\n",
      "Epoch: 0077 train_loss= 54.19107 train_acc= 0.96429 val_loss= 247.53151 val_acc= 0.47000 time= 0.01319\n",
      "Epoch: 0078 train_loss= 54.03947 train_acc= 0.98571 val_loss= 247.55681 val_acc= 0.46600 time= 0.01450\n",
      "Epoch: 0079 train_loss= 54.53146 train_acc= 0.96429 val_loss= 247.58920 val_acc= 0.46800 time= 0.01360\n",
      "Epoch: 0080 train_loss= 55.08019 train_acc= 0.97857 val_loss= 247.67389 val_acc= 0.47200 time= 0.01382\n",
      "Epoch: 0081 train_loss= 54.39564 train_acc= 0.95000 val_loss= 247.76712 val_acc= 0.46800 time= 0.01298\n",
      "Epoch: 0082 train_loss= 54.86862 train_acc= 0.95000 val_loss= 247.85387 val_acc= 0.46800 time= 0.01230\n",
      "Epoch: 0083 train_loss= 54.01924 train_acc= 0.98571 val_loss= 247.92184 val_acc= 0.47000 time= 0.01267\n",
      "Epoch: 0084 train_loss= 54.94858 train_acc= 0.96429 val_loss= 247.99680 val_acc= 0.47000 time= 0.01239\n",
      "Epoch: 0085 train_loss= 53.70664 train_acc= 0.97857 val_loss= 248.05034 val_acc= 0.46000 time= 0.01288\n",
      "Epoch: 0086 train_loss= 53.68050 train_acc= 0.99286 val_loss= 248.08035 val_acc= 0.45600 time= 0.01270\n"
     ]
    },
    {
     "name": "stdout",
     "output_type": "stream",
     "text": [
      "Epoch: 0087 train_loss= 54.02000 train_acc= 0.98571 val_loss= 248.14159 val_acc= 0.45600 time= 0.01438\n",
      "Epoch: 0088 train_loss= 54.35558 train_acc= 0.97143 val_loss= 248.19489 val_acc= 0.46000 time= 0.01587\n",
      "Epoch: 0089 train_loss= 54.57681 train_acc= 0.97143 val_loss= 248.27771 val_acc= 0.46000 time= 0.01615\n",
      "Epoch: 0090 train_loss= 53.99089 train_acc= 0.97857 val_loss= 248.37361 val_acc= 0.45400 time= 0.01764\n",
      "Epoch: 0091 train_loss= 53.94865 train_acc= 0.97143 val_loss= 248.46854 val_acc= 0.45200 time= 0.01325\n",
      "Epoch: 0092 train_loss= 53.32748 train_acc= 0.99286 val_loss= 248.55003 val_acc= 0.45200 time= 0.01288\n",
      "Epoch: 0093 train_loss= 53.39418 train_acc= 0.99286 val_loss= 248.60071 val_acc= 0.44600 time= 0.01263\n",
      "Epoch: 0094 train_loss= 53.73022 train_acc= 0.96429 val_loss= 248.60922 val_acc= 0.44800 time= 0.01238\n",
      "Epoch: 0095 train_loss= 54.00950 train_acc= 0.97143 val_loss= 248.55411 val_acc= 0.44600 time= 0.01229\n",
      "Epoch: 0096 train_loss= 53.16956 train_acc= 0.97143 val_loss= 248.49576 val_acc= 0.44200 time= 0.01450\n",
      "Epoch: 0097 train_loss= 53.73998 train_acc= 0.97857 val_loss= 248.43596 val_acc= 0.43800 time= 0.01391\n",
      "Epoch: 0098 train_loss= 53.20363 train_acc= 0.97143 val_loss= 248.36458 val_acc= 0.41800 time= 0.01267\n",
      "Epoch: 0099 train_loss= 52.96763 train_acc= 0.98571 val_loss= 248.27087 val_acc= 0.41800 time= 0.01290\n",
      "Epoch: 0100 train_loss= 53.18164 train_acc= 0.97857 val_loss= 248.21432 val_acc= 0.41800 time= 0.01326\n",
      "Epoch: 0101 train_loss= 53.54897 train_acc= 0.96429 val_loss= 248.16530 val_acc= 0.42000 time= 0.01911\n",
      "Epoch: 0102 train_loss= 53.94534 train_acc= 0.96429 val_loss= 248.13586 val_acc= 0.43000 time= 0.03004\n",
      "Early stopping...\n",
      "Optimization Finished!\n"
     ]
    }
   ],
   "source": [
    "# Initialize weights\n",
    "sess.run(tf.global_variables_initializer())\n",
    "\n",
    "train_loss = []\n",
    "validation_loss = []\n",
    "train_accuracy = []\n",
    "validation_accuracy = []\n",
    "\n",
    "\n",
    "# Train model\n",
    "for epoch in range(FLAGS.epochs):\n",
    "\n",
    "    t = time.time()\n",
    "    # Construct feed dictionary\n",
    "    feed_dict = construct_feed_dict(features, support, y_train, train_mask, placeholders)\n",
    "    feed_dict.update({placeholders['dropout']: FLAGS.dropout})\n",
    "\n",
    "    # Training step\n",
    "    outs = sess.run([model.opt_op, model.loss, model.accuracy], feed_dict=feed_dict)\n",
    "    \n",
    "    # Validation\n",
    "    cost, acc, duration = evaluate(features, support, y_val, val_mask, placeholders)\n",
    "    validation_loss.append(cost)\n",
    "    validation_accuracy.append(acc)\n",
    "    train_loss.append(outs[1])\n",
    "    train_accuracy.append(outs[2])\n",
    "\n",
    "    # Print results\n",
    "    print(\"Epoch:\", '%04d' % (epoch + 1), \"train_loss=\", \"{:.5f}\".format(outs[1]),\n",
    "          \"train_acc=\", \"{:.5f}\".format(outs[2]), \"val_loss=\", \"{:.5f}\".format(cost),\n",
    "          \"val_acc=\", \"{:.5f}\".format(acc), \"time=\", \"{:.5f}\".format(time.time() - t))\n",
    "\n",
    "    if epoch > FLAGS.early_stopping and validation_loss[-1] > np.mean(validation_loss[-(FLAGS.early_stopping+1):-1]):\n",
    "        print(\"Early stopping...\")\n",
    "        break\n",
    "\n",
    "print(\"Optimization Finished!\")"
   ]
  },
  {
   "cell_type": "code",
   "execution_count": 11,
   "metadata": {},
   "outputs": [
    {
     "data": {
      "image/png": "[encoded data removed]",
      "text/plain": [
       "<matplotlib.figure.Figure at 0x11e2334a8>"
      ]
     },
     "metadata": {},
     "output_type": "display_data"
    }
   ],
   "source": [
    "import matplotlib.pyplot as plt\n",
    "\n",
    "p1 = plt.subplot(211)\n",
    "p2 = plt.subplot(212)\n",
    "\n",
    "p1.plot(train_accuracy,label = 'train_accuracy')\n",
    "p1.plot(validation_accuracy, label='validation_accuracy')\n",
    "p1.legend()\n",
    "\n",
    "p2.plot(train_loss,label = 'train_loss')\n",
    "p2.plot(validation_loss,label='validaton_loss')\n",
    "p2.legend()\n",
    "\n",
    "plt.tight_layout()\n",
    "plt.show()"
   ]
  },
  {
   "cell_type": "markdown",
   "metadata": {},
   "source": [
    "# 4. Change the input graph/label"
   ]
  },
  {
   "cell_type": "markdown",
   "metadata": {},
   "source": [
    "Now, create the input graphs using a Stochastic Block Model. The number of nodes should be 500, and then feed the true labels using $20%$ of the nodes. The degree of a node must be used as the feature.\n",
    "Make a plot of training accuracy, training loss, validation accuracy and validation loss against the number of steps for this input graph."
   ]
  },
  {
   "cell_type": "code",
   "execution_count": 12,
   "metadata": {
    "collapsed": true
   },
   "outputs": [],
   "source": [
    "import networkx as nx\n",
    "import random\n",
    "\n",
    "def is_sameCluster(N, i, j):\n",
    "    if ((i <= (N+1)/2) and (j <= (N+1)/2)) or ((i > (N+1)/2) and (j > (N+1)/2)):\n",
    "        return True\n",
    "    else:\n",
    "        return False\n",
    "\n",
    "def addEdge(G, prob, i, j):\n",
    "    temp = random.uniform(0, 1)\n",
    "    if temp < prob:\n",
    "        G.add_edge(i, j)        \n",
    "        \n",
    "def generateGraph(N, alpha):\n",
    "    G = nx.Graph()\n",
    "    G.add_nodes_from(range(1, N+1))\n",
    "    nodes = G.nodes()\n",
    "    for i in nodes:\n",
    "        for j in nodes:\n",
    "            if is_sameCluster(N, i, j):\n",
    "                prob = 0.5 + alpha\n",
    "            else:\n",
    "                prob = 0.5 - alpha\n",
    "            addEdge(G, prob, i, j)\n",
    "            \n",
    "    for (i,j) in G.edges():\n",
    "        G[i][j]['d'] = len(set(G.neighbors(i)).intersection(set(G.neighbors(j))))\n",
    "        \n",
    "    return G"
   ]
  },
  {
   "cell_type": "code",
   "execution_count": 13,
   "metadata": {},
   "outputs": [
    {
     "name": "stdout",
     "output_type": "stream",
     "text": [
      "(500, 500)\n"
     ]
    }
   ],
   "source": [
    "G = generateGraph(500, 0.3)\n",
    "adjacency = nx.adjacency_matrix(G).todense()\n",
    "print(adjacency.shape)"
   ]
  },
  {
   "cell_type": "code",
   "execution_count": 14,
   "metadata": {},
   "outputs": [
    {
     "name": "stderr",
     "output_type": "stream",
     "text": [
      "/Users/rahulswamy/Dropbox/ie532/submissions/ex5/gcn/utils.py:97: RuntimeWarning: divide by zero encountered in power\n",
      "  r_inv = np.power(rowsum, -1).flatten()\n"
     ]
    }
   ],
   "source": [
    "# Load data\n",
    "adj, features, y_train, y_val, y_test, train_mask, val_mask, test_mask = load_data(FLAGS.dataset_2)\n",
    "\n",
    "# Some preprocessing\n",
    "features = preprocess_features(features)\n",
    "if FLAGS.model == 'gcn':\n",
    "    support = [preprocess_adj(adj)]\n",
    "    num_supports = 1\n",
    "    model_func = GCN\n",
    "elif FLAGS.model == 'gcn_cheby':\n",
    "    support = chebyshev_polynomials(adj, FLAGS.max_degree)\n",
    "    num_supports = 1 + FLAGS.max_degree\n",
    "    model_func = GCN\n",
    "elif FLAGS.model == 'dense':\n",
    "    support = [preprocess_adj(adj)]  # Not used\n",
    "    num_supports = 1\n",
    "    model_func = MLP\n",
    "else:\n",
    "    raise ValueError('Invalid argument for model: ' + str(FLAGS.model))\n",
    "\n",
    "# Define placeholders\n",
    "placeholders = {\n",
    "    'support': [tf.sparse_placeholder(tf.float32) for _ in range(num_supports)],\n",
    "    'features': tf.sparse_placeholder(tf.float32, shape=tf.constant(features[2], dtype=tf.int64)),\n",
    "    'labels': tf.placeholder(tf.float32, shape=(None, y_train.shape[1])),\n",
    "    'labels_mask': tf.placeholder(tf.int32),\n",
    "    'dropout': tf.placeholder_with_default(0., shape=()),\n",
    "    'num_features_nonzero': tf.placeholder(tf.int32)  # helper variable for sparse dropout\n",
    "}\n",
    "\n",
    "# Create model\n",
    "model = model_func(placeholders, input_dim=features[2][1], logging=True)\n",
    "\n",
    "# Initialize session\n",
    "sess = tf.Session()\n",
    "\n",
    "\n",
    "# Define model evaluation function\n",
    "def evaluate(features, support, labels, mask, placeholders):\n",
    "    t_test = time.time()\n",
    "    feed_dict_val = construct_feed_dict(features, support, labels, mask, placeholders)\n",
    "    outs_val = sess.run([model.loss, model.accuracy], feed_dict=feed_dict_val)\n",
    "    return outs_val[0], outs_val[1], (time.time() - t_test)"
   ]
  },
  {
   "cell_type": "code",
   "execution_count": 15,
   "metadata": {},
   "outputs": [
    {
     "name": "stdout",
     "output_type": "stream",
     "text": [
      "Epoch: 0001 train_loss= 60.03241 train_acc= 0.22500 val_loss= 247.41069 val_acc= 0.41000 time= 0.05145\n",
      "Epoch: 0002 train_loss= 59.44440 train_acc= 0.43333 val_loss= 246.29999 val_acc= 0.54600 time= 0.02681\n",
      "Epoch: 0003 train_loss= 58.90879 train_acc= 0.51667 val_loss= 245.75726 val_acc= 0.60400 time= 0.02575\n",
      "Epoch: 0004 train_loss= 58.44637 train_acc= 0.72500 val_loss= 245.53174 val_acc= 0.62200 time= 0.02592\n",
      "Epoch: 0005 train_loss= 57.84655 train_acc= 0.77500 val_loss= 245.36873 val_acc= 0.63000 time= 0.02544\n",
      "Epoch: 0006 train_loss= 57.36644 train_acc= 0.78333 val_loss= 245.18605 val_acc= 0.62600 time= 0.02600\n",
      "Epoch: 0007 train_loss= 56.67850 train_acc= 0.87500 val_loss= 244.96838 val_acc= 0.60600 time= 0.02512\n",
      "Epoch: 0008 train_loss= 56.24786 train_acc= 0.88333 val_loss= 244.75908 val_acc= 0.59000 time= 0.02640\n",
      "Epoch: 0009 train_loss= 55.70902 train_acc= 0.89167 val_loss= 244.63945 val_acc= 0.59600 time= 0.02669\n",
      "Epoch: 0010 train_loss= 55.02552 train_acc= 0.89167 val_loss= 244.57333 val_acc= 0.61600 time= 0.02473\n",
      "Epoch: 0011 train_loss= 54.29958 train_acc= 0.90000 val_loss= 244.59389 val_acc= 0.62000 time= 0.02631\n",
      "Epoch: 0012 train_loss= 54.29102 train_acc= 0.90833 val_loss= 244.76399 val_acc= 0.61400 time= 0.02849\n",
      "Epoch: 0013 train_loss= 53.85867 train_acc= 0.88333 val_loss= 245.10381 val_acc= 0.60000 time= 0.03029\n",
      "Epoch: 0014 train_loss= 53.61412 train_acc= 0.93333 val_loss= 245.46606 val_acc= 0.58800 time= 0.02611\n",
      "Epoch: 0015 train_loss= 52.80430 train_acc= 0.91667 val_loss= 245.87241 val_acc= 0.57600 time= 0.02541\n",
      "Epoch: 0016 train_loss= 51.51369 train_acc= 0.95833 val_loss= 246.28180 val_acc= 0.55600 time= 0.02633\n",
      "Epoch: 0017 train_loss= 52.21138 train_acc= 0.90833 val_loss= 246.70715 val_acc= 0.55400 time= 0.02585\n",
      "Epoch: 0018 train_loss= 51.35676 train_acc= 0.90833 val_loss= 247.09570 val_acc= 0.54400 time= 0.02554\n",
      "Epoch: 0019 train_loss= 51.45806 train_acc= 0.93333 val_loss= 247.45778 val_acc= 0.50000 time= 0.02526\n",
      "Epoch: 0020 train_loss= 50.63346 train_acc= 0.92500 val_loss= 247.79649 val_acc= 0.49600 time= 0.02552\n",
      "Epoch: 0021 train_loss= 50.22812 train_acc= 0.94167 val_loss= 248.09091 val_acc= 0.49400 time= 0.02564\n",
      "Epoch: 0022 train_loss= 49.60632 train_acc= 0.94167 val_loss= 248.36092 val_acc= 0.48400 time= 0.02637\n",
      "Epoch: 0023 train_loss= 49.79035 train_acc= 0.96667 val_loss= 248.60875 val_acc= 0.48000 time= 0.02496\n",
      "Epoch: 0024 train_loss= 49.30558 train_acc= 0.95833 val_loss= 248.83067 val_acc= 0.47400 time= 0.02962\n",
      "Epoch: 0025 train_loss= 48.51762 train_acc= 0.98333 val_loss= 249.04913 val_acc= 0.47200 time= 0.02816\n",
      "Epoch: 0026 train_loss= 48.48784 train_acc= 0.97500 val_loss= 249.28865 val_acc= 0.47200 time= 0.02649\n",
      "Epoch: 0027 train_loss= 47.94374 train_acc= 0.96667 val_loss= 249.55049 val_acc= 0.46600 time= 0.02684\n",
      "Epoch: 0028 train_loss= 48.05190 train_acc= 0.95000 val_loss= 249.82002 val_acc= 0.47000 time= 0.02972\n",
      "Epoch: 0029 train_loss= 47.26234 train_acc= 0.95833 val_loss= 250.09509 val_acc= 0.46200 time= 0.04281\n",
      "Epoch: 0030 train_loss= 47.75624 train_acc= 0.96667 val_loss= 250.39604 val_acc= 0.44800 time= 0.03117\n",
      "Epoch: 0031 train_loss= 47.65497 train_acc= 0.95833 val_loss= 250.70490 val_acc= 0.42200 time= 0.02935\n",
      "Epoch: 0032 train_loss= 47.13194 train_acc= 0.96667 val_loss= 251.00990 val_acc= 0.40400 time= 0.02962\n",
      "Epoch: 0033 train_loss= 46.48621 train_acc= 0.96667 val_loss= 251.28087 val_acc= 0.38800 time= 0.03092\n",
      "Epoch: 0034 train_loss= 46.31586 train_acc= 0.96667 val_loss= 251.52211 val_acc= 0.38200 time= 0.02898\n",
      "Epoch: 0035 train_loss= 46.18010 train_acc= 0.95833 val_loss= 251.75668 val_acc= 0.38200 time= 0.02729\n",
      "Epoch: 0036 train_loss= 46.22196 train_acc= 0.96667 val_loss= 251.95967 val_acc= 0.38000 time= 0.02827\n",
      "Epoch: 0037 train_loss= 46.43718 train_acc= 0.94167 val_loss= 252.16376 val_acc= 0.37000 time= 0.02949\n",
      "Epoch: 0038 train_loss= 45.64278 train_acc= 0.96667 val_loss= 252.34064 val_acc= 0.35600 time= 0.03363\n",
      "Epoch: 0039 train_loss= 45.40736 train_acc= 0.96667 val_loss= 252.51494 val_acc= 0.34600 time= 0.03588\n",
      "Epoch: 0040 train_loss= 45.31284 train_acc= 0.99167 val_loss= 252.70706 val_acc= 0.34000 time= 0.02774\n",
      "Epoch: 0041 train_loss= 44.51756 train_acc= 0.95833 val_loss= 252.89246 val_acc= 0.33800 time= 0.02676\n",
      "Epoch: 0042 train_loss= 44.43282 train_acc= 0.98333 val_loss= 253.04561 val_acc= 0.32600 time= 0.02707\n",
      "Epoch: 0043 train_loss= 44.75128 train_acc= 0.97500 val_loss= 253.19846 val_acc= 0.32200 time= 0.02613\n",
      "Epoch: 0044 train_loss= 44.45513 train_acc= 0.98333 val_loss= 253.34180 val_acc= 0.31800 time= 0.02494\n",
      "Epoch: 0045 train_loss= 44.96524 train_acc= 0.95000 val_loss= 253.49577 val_acc= 0.32000 time= 0.02514\n",
      "Epoch: 0046 train_loss= 44.48146 train_acc= 0.95833 val_loss= 253.65039 val_acc= 0.32200 time= 0.02781\n",
      "Epoch: 0047 train_loss= 44.08940 train_acc= 0.98333 val_loss= 253.83078 val_acc= 0.32600 time= 0.02740\n",
      "Epoch: 0048 train_loss= 44.15218 train_acc= 0.96667 val_loss= 253.97881 val_acc= 0.32800 time= 0.02578\n",
      "Epoch: 0049 train_loss= 44.28667 train_acc= 0.95833 val_loss= 254.13072 val_acc= 0.34200 time= 0.02579\n",
      "Epoch: 0050 train_loss= 43.63137 train_acc= 0.98333 val_loss= 254.25414 val_acc= 0.34000 time= 0.02612\n",
      "Epoch: 0051 train_loss= 43.66515 train_acc= 0.99167 val_loss= 254.35028 val_acc= 0.33600 time= 0.02650\n",
      "Epoch: 0052 train_loss= 43.30203 train_acc= 0.96667 val_loss= 254.44226 val_acc= 0.34000 time= 0.02595\n",
      "Epoch: 0053 train_loss= 43.15819 train_acc= 0.98333 val_loss= 254.51926 val_acc= 0.34000 time= 0.02492\n",
      "Epoch: 0054 train_loss= 44.62138 train_acc= 0.96667 val_loss= 254.57066 val_acc= 0.34200 time= 0.02610\n",
      "Epoch: 0055 train_loss= 42.89776 train_acc= 0.96667 val_loss= 254.59779 val_acc= 0.34000 time= 0.02610\n",
      "Epoch: 0056 train_loss= 43.53904 train_acc= 0.99167 val_loss= 254.63818 val_acc= 0.33000 time= 0.02541\n",
      "Epoch: 0057 train_loss= 43.80014 train_acc= 0.95000 val_loss= 254.67938 val_acc= 0.32000 time= 0.02671\n",
      "Epoch: 0058 train_loss= 43.00464 train_acc= 0.95000 val_loss= 254.69392 val_acc= 0.31200 time= 0.02541\n",
      "Epoch: 0059 train_loss= 43.08628 train_acc= 0.96667 val_loss= 254.71744 val_acc= 0.30600 time= 0.02582\n",
      "Epoch: 0060 train_loss= 42.99224 train_acc= 0.97500 val_loss= 254.74857 val_acc= 0.30200 time= 0.02461\n",
      "Epoch: 0061 train_loss= 42.77277 train_acc= 0.97500 val_loss= 254.80122 val_acc= 0.29400 time= 0.02684\n",
      "Epoch: 0062 train_loss= 42.61523 train_acc= 0.97500 val_loss= 254.86253 val_acc= 0.29000 time= 0.02629\n",
      "Epoch: 0063 train_loss= 43.23264 train_acc= 0.98333 val_loss= 254.90031 val_acc= 0.28600 time= 0.02596\n",
      "Epoch: 0064 train_loss= 42.51894 train_acc= 0.95833 val_loss= 254.99139 val_acc= 0.28400 time= 0.02613\n",
      "Epoch: 0065 train_loss= 41.94604 train_acc= 0.98333 val_loss= 255.10764 val_acc= 0.28400 time= 0.02580\n",
      "Epoch: 0066 train_loss= 43.03791 train_acc= 0.96667 val_loss= 255.19225 val_acc= 0.28200 time= 0.02580\n",
      "Epoch: 0067 train_loss= 41.64474 train_acc= 0.99167 val_loss= 255.29308 val_acc= 0.28200 time= 0.02547\n",
      "Epoch: 0068 train_loss= 42.54066 train_acc= 0.98333 val_loss= 255.37679 val_acc= 0.28000 time= 0.02531\n",
      "Epoch: 0069 train_loss= 42.25238 train_acc= 0.98333 val_loss= 255.48981 val_acc= 0.28400 time= 0.02546\n",
      "Epoch: 0070 train_loss= 42.74714 train_acc= 0.95833 val_loss= 255.58659 val_acc= 0.28200 time= 0.02640\n",
      "Epoch: 0071 train_loss= 41.81598 train_acc= 0.98333 val_loss= 255.63551 val_acc= 0.28200 time= 0.02618\n",
      "Epoch: 0072 train_loss= 43.05436 train_acc= 0.97500 val_loss= 255.65292 val_acc= 0.28200 time= 0.02602\n",
      "Epoch: 0073 train_loss= 42.67590 train_acc= 0.96667 val_loss= 255.62617 val_acc= 0.28000 time= 0.02618\n",
      "Epoch: 0074 train_loss= 41.84826 train_acc= 0.97500 val_loss= 255.60838 val_acc= 0.27000 time= 0.02540\n",
      "Epoch: 0075 train_loss= 41.41366 train_acc= 0.96667 val_loss= 255.58250 val_acc= 0.26800 time= 0.02645\n",
      "Epoch: 0076 train_loss= 41.43992 train_acc= 0.97500 val_loss= 255.57278 val_acc= 0.26800 time= 0.02546\n",
      "Epoch: 0077 train_loss= 41.41600 train_acc= 0.99167 val_loss= 255.60971 val_acc= 0.27400 time= 0.02655\n",
      "Epoch: 0078 train_loss= 41.55595 train_acc= 0.99167 val_loss= 255.66475 val_acc= 0.27400 time= 0.02567\n",
      "Epoch: 0079 train_loss= 41.45126 train_acc= 0.96667 val_loss= 255.69521 val_acc= 0.27200 time= 0.02471\n",
      "Epoch: 0080 train_loss= 40.89023 train_acc= 0.95000 val_loss= 255.71288 val_acc= 0.27200 time= 0.02491\n",
      "Epoch: 0081 train_loss= 41.90391 train_acc= 0.97500 val_loss= 255.76114 val_acc= 0.27000 time= 0.02569\n",
      "Epoch: 0082 train_loss= 41.55239 train_acc= 0.96667 val_loss= 255.80548 val_acc= 0.26400 time= 0.02595\n",
      "Epoch: 0083 train_loss= 41.10740 train_acc= 0.99167 val_loss= 255.88594 val_acc= 0.26400 time= 0.03398\n",
      "Epoch: 0084 train_loss= 41.56655 train_acc= 1.00000 val_loss= 255.96434 val_acc= 0.25800 time= 0.02709\n",
      "Epoch: 0085 train_loss= 41.76411 train_acc= 0.96667 val_loss= 256.09781 val_acc= 0.25600 time= 0.02623\n"
     ]
    },
    {
     "name": "stdout",
     "output_type": "stream",
     "text": [
      "Epoch: 0086 train_loss= 41.16063 train_acc= 0.97500 val_loss= 256.22589 val_acc= 0.25600 time= 0.02574\n",
      "Epoch: 0087 train_loss= 40.18763 train_acc= 0.97500 val_loss= 256.33493 val_acc= 0.25800 time= 0.02605\n",
      "Epoch: 0088 train_loss= 40.97846 train_acc= 0.96667 val_loss= 256.49341 val_acc= 0.25800 time= 0.02682\n",
      "Epoch: 0089 train_loss= 41.22199 train_acc= 0.97500 val_loss= 256.63733 val_acc= 0.26000 time= 0.02596\n",
      "Epoch: 0090 train_loss= 40.52702 train_acc= 0.98333 val_loss= 256.78549 val_acc= 0.25600 time= 0.02591\n",
      "Epoch: 0091 train_loss= 40.36060 train_acc= 0.97500 val_loss= 256.87115 val_acc= 0.25600 time= 0.02585\n",
      "Epoch: 0092 train_loss= 41.18401 train_acc= 0.95000 val_loss= 256.87802 val_acc= 0.25400 time= 0.02628\n",
      "Epoch: 0093 train_loss= 41.08439 train_acc= 0.97500 val_loss= 256.87320 val_acc= 0.25400 time= 0.02564\n",
      "Epoch: 0094 train_loss= 40.76528 train_acc= 0.99167 val_loss= 256.88217 val_acc= 0.25200 time= 0.02546\n",
      "Epoch: 0095 train_loss= 41.12056 train_acc= 0.99167 val_loss= 256.85782 val_acc= 0.25200 time= 0.02629\n",
      "Epoch: 0096 train_loss= 40.64199 train_acc= 0.96667 val_loss= 256.84079 val_acc= 0.25200 time= 0.02519\n",
      "Epoch: 0097 train_loss= 41.09359 train_acc= 0.96667 val_loss= 256.80115 val_acc= 0.25400 time= 0.02560\n",
      "Epoch: 0098 train_loss= 40.80972 train_acc= 0.96667 val_loss= 256.76645 val_acc= 0.25200 time= 0.02498\n",
      "Epoch: 0099 train_loss= 39.97892 train_acc= 0.98333 val_loss= 256.75082 val_acc= 0.25200 time= 0.02609\n",
      "Epoch: 0100 train_loss= 41.62796 train_acc= 0.95833 val_loss= 256.83881 val_acc= 0.25400 time= 0.02597\n",
      "Epoch: 0101 train_loss= 41.07771 train_acc= 0.96667 val_loss= 256.92624 val_acc= 0.25400 time= 0.02542\n",
      "Epoch: 0102 train_loss= 40.80237 train_acc= 0.98333 val_loss= 257.02249 val_acc= 0.25400 time= 0.02626\n",
      "Early stopping...\n",
      "Optimization Finished!\n"
     ]
    }
   ],
   "source": [
    "# Initialize weights\n",
    "sess.run(tf.global_variables_initializer())\n",
    "\n",
    "train_loss = []\n",
    "validation_loss = []\n",
    "train_accuracy = []\n",
    "validation_accuracy = []\n",
    "\n",
    "\n",
    "# Train model\n",
    "for epoch in range(FLAGS.epochs):\n",
    "\n",
    "    t = time.time()\n",
    "    # Construct feed dictionary\n",
    "    feed_dict = construct_feed_dict(features, support, y_train, train_mask, placeholders)\n",
    "    feed_dict.update({placeholders['dropout']: FLAGS.dropout})\n",
    "\n",
    "    # Training step\n",
    "    outs = sess.run([model.opt_op, model.loss, model.accuracy], feed_dict=feed_dict)\n",
    "    \n",
    "    # Validation\n",
    "    cost, acc, duration = evaluate(features, support, y_val, val_mask, placeholders)\n",
    "    validation_loss.append(cost)\n",
    "    validation_accuracy.append(acc)\n",
    "    train_loss.append(outs[1])\n",
    "    train_accuracy.append(outs[2])\n",
    "\n",
    "    # Print results\n",
    "    print(\"Epoch:\", '%04d' % (epoch + 1), \"train_loss=\", \"{:.5f}\".format(outs[1]),\n",
    "          \"train_acc=\", \"{:.5f}\".format(outs[2]), \"val_loss=\", \"{:.5f}\".format(cost),\n",
    "          \"val_acc=\", \"{:.5f}\".format(acc), \"time=\", \"{:.5f}\".format(time.time() - t))\n",
    "\n",
    "    if epoch > FLAGS.early_stopping and validation_loss[-1] > np.mean(validation_loss[-(FLAGS.early_stopping+1):-1]):\n",
    "        print(\"Early stopping...\")\n",
    "        break\n",
    "\n",
    "print(\"Optimization Finished!\")"
   ]
  },
  {
   "cell_type": "code",
   "execution_count": 16,
   "metadata": {},
   "outputs": [
    {
     "data": {
      "image/png": "[encoded data removed]",
      "text/plain": [
       "<matplotlib.figure.Figure at 0x11ac3f2b0>"
      ]
     },
     "metadata": {},
     "output_type": "display_data"
    }
   ],
   "source": [
    "import matplotlib.pyplot as plt\n",
    "plt.figure()\n",
    "plt.plot(train_accuracy,label = 'train_accuracy')\n",
    "plt.plot(train_loss,label = 'train_loss')\n",
    "plt.plot(validation_accuracy, label='validation_accuracy')\n",
    "plt.plot(validation_loss,label='validaton_loss')\n",
    "plt.legend()\n",
    "plt.show()"
   ]
  },
  {
   "cell_type": "code",
   "execution_count": null,
   "metadata": {
    "collapsed": true
   },
   "outputs": [],
   "source": []
  }
 ],
 "metadata": {
  "kernelspec": {
   "display_name": "Python 3",
   "language": "python",
   "name": "python3"
  },
  "language_info": {
   "codemirror_mode": {
    "name": "ipython",
    "version": 3
   },
   "file_extension": ".py",
   "mimetype": "text/x-python",
   "name": "python",
   "nbconvert_exporter": "python",
   "pygments_lexer": "ipython3",
   "version": "3.6.1"
  }
 },
 "nbformat": 4,
 "nbformat_minor": 2
}
