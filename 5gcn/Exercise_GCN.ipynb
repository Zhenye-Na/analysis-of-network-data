{
 "cells": [
  {
   "cell_type": "markdown",
   "metadata": {},
   "source": [
    "## Graph Neural Networks\n",
    "\n",
    "We now use Tensorflow to classify nodes in a graph using Graph Convolution Networks.\n",
    "\n",
    "First, install gcn on your machine using the 'python setup.py install' command."
   ]
  },
  {
   "cell_type": "markdown",
   "metadata": {},
   "source": [
    "# Exercise for semisupervised classification on citation networks"
   ]
  },
  {
   "cell_type": "code",
   "execution_count": 1,
   "metadata": {
    "collapsed": true
   },
   "outputs": [],
   "source": [
    "from __future__ import division\n",
    "from __future__ import print_function\n",
    "\n",
    "import time\n",
    "import tensorflow as tf\n",
    "from gcn.utils import *\n",
    "from gcn.models import Model,MLP\n",
    "from gcn.layers import *"
   ]
  },
  {
   "cell_type": "code",
   "execution_count": 2,
   "metadata": {
    "collapsed": true
   },
   "outputs": [],
   "source": [
    "# Set random seed\n",
    "seed = 123\n",
    "np.random.seed(seed)\n",
    "tf.set_random_seed(seed)\n",
    "\n",
    "# Settings\n",
    "flags = tf.app.flags\n",
    "FLAGS = flags.FLAGS\n",
    "flags.DEFINE_string('dataset', 'cora', 'Dataset string.')  # 'cora', 'citeseer', 'pubmed'\n",
    "flags.DEFINE_string('model', 'gcn', 'Model string.')  # 'gcn', 'gcn_cheby', 'dense'\n",
    "flags.DEFINE_float('learning_rate', 0.01, 'Initial learning rate.')\n",
    "#flags.DEFINE_float('learning_rate', 0.1, 'Initial learning rate.')\n",
    "flags.DEFINE_integer('epochs', 200, 'Number of epochs to train.')\n",
    "flags.DEFINE_integer('hidden1', 16, 'Number of units in hidden layer 1.')\n",
    "flags.DEFINE_float('dropout', 0.5, 'Dropout rate (1 - keep probability).')\n",
    "#flags.DEFINE_float('dropout', 0., 'Dropout rate (1 - keep probability).')\n",
    "flags.DEFINE_float('weight_decay', 5e-4, 'Weight for L2 loss on embedding matrix.')\n",
    "#flags.DEFINE_float('weight_decay', 0, 'Weight for L2 loss on embedding matrix.')\n",
    "flags.DEFINE_integer('early_stopping', 100, 'Tolerance for early stopping (# of epochs).')\n",
    "flags.DEFINE_integer('max_degree', 3, 'Maximum Chebyshev polynomial degree.')"
   ]
  },
  {
   "cell_type": "code",
   "execution_count": 3,
   "metadata": {
    "collapsed": true
   },
   "outputs": [],
   "source": [
    "def masked_softmax_cross_entropy(preds, labels, mask):\n",
    "    \"\"\"Softmax cross-entropy loss with masking.\"\"\"\n",
    "    loss = tf.nn.softmax_cross_entropy_with_logits(logits=preds, labels=labels)\n",
    "    mask = tf.cast(mask, dtype=tf.float32)\n",
    "    mask /= tf.reduce_mean(mask)\n",
    "    loss *= mask\n",
    "    return tf.reduce_mean(loss)\n",
    "\n",
    "#--------------- Your code here --------------#\n",
    "# masked_mean_square_error(preds,labels,mask)\n",
    "\n",
    "\n",
    "#--------------------------------------------#\n",
    "\n",
    "def masked_accuracy(preds, labels, mask):\n",
    "    \"\"\"Accuracy with masking.\"\"\"\n",
    "    correct_prediction = tf.equal(tf.argmax(preds, 1), tf.argmax(labels, 1))\n",
    "    accuracy_all = tf.cast(correct_prediction, tf.float32)\n",
    "    mask = tf.cast(mask, dtype=tf.float32)\n",
    "    mask /= tf.reduce_mean(mask)\n",
    "    accuracy_all *= mask\n",
    "    return tf.reduce_mean(accuracy_all)"
   ]
  },
  {
   "cell_type": "code",
   "execution_count": 4,
   "metadata": {
    "collapsed": true
   },
   "outputs": [],
   "source": [
    "class GCN(Model):\n",
    "    def __init__(self, placeholders, input_dim, **kwargs):\n",
    "        super(GCN, self).__init__(**kwargs)\n",
    "\n",
    "        self.inputs = placeholders['features']\n",
    "        self.input_dim = input_dim\n",
    "        # self.input_dim = self.inputs.get_shape().as_list()[1]  # To be supported in future Tensorflow versions\n",
    "        self.output_dim = placeholders['labels'].get_shape().as_list()[1]\n",
    "        self.placeholders = placeholders\n",
    "\n",
    "        self.optimizer = tf.train.AdamOptimizer(learning_rate=FLAGS.learning_rate)\n",
    "\n",
    "        self.build()\n",
    "\n",
    "    def _loss(self):\n",
    "        # Weight decay loss\n",
    "        for var in self.layers[0].vars.values():\n",
    "            self.loss += FLAGS.weight_decay * tf.nn.l2_loss(var)\n",
    "\n",
    "        # Cross entropy error\n",
    "#        self.loss += masked_mean_square_error(self.outputs, self.placeholders['labels'],\n",
    "#                                                 self.placeholders['labels_mask'])\n",
    "        self.loss += masked_softmax_cross_entropy(self.outputs, self.placeholders['labels'],\n",
    "                                                  self.placeholders['labels_mask'])\n",
    "\n",
    "    def _accuracy(self):\n",
    "        self.accuracy = masked_accuracy(self.outputs, self.placeholders['labels'],\n",
    "                                        self.placeholders['labels_mask'])\n",
    "\n",
    "    def _build(self):\n",
    "\n",
    "        self.layers.append(GraphConvolution(input_dim=self.input_dim,\n",
    "                                            output_dim=FLAGS.hidden1,\n",
    "                                            placeholders=self.placeholders,\n",
    "                                            act=tf.nn.relu,\n",
    "                                            dropout=True,\n",
    "                                            sparse_inputs=True,\n",
    "                                            logging=self.logging))\n",
    "\n",
    "        self.layers.append(GraphConvolution(input_dim=FLAGS.hidden1,\n",
    "                                            output_dim=self.output_dim,\n",
    "                                            placeholders=self.placeholders,\n",
    "                                            act=lambda x: x,\n",
    "                                            dropout=True,\n",
    "                                            logging=self.logging))\n",
    "\n",
    "    def predict(self):\n",
    "        return tf.nn.softmax(self.outputs)"
   ]
  },
  {
   "cell_type": "code",
   "execution_count": 5,
   "metadata": {
    "collapsed": true
   },
   "outputs": [],
   "source": [
    "def preprocess_adj(adj):\n",
    "    \"\"\"Preprocessing of adjacency matrix for simple GCN model and conversion to tuple representation.\"\"\"\n",
    "    adj_normalized = normalize_adj(adj + sp.eye(adj.shape[0]))\n",
    "    return sparse_to_tuple(adj_normalized)\n",
    "#    adj_square = np.power(adj,2).tocoo()\n",
    "#    return sparse_to_tuple(adj)\n"
   ]
  },
  {
   "cell_type": "code",
   "execution_count": 6,
   "metadata": {
    "collapsed": true
   },
   "outputs": [],
   "source": [
    "# Load data\n",
    "adj, features, y_train, y_val, y_test, train_mask, val_mask, test_mask = load_data(FLAGS.dataset)\n",
    "\n",
    "# Some preprocessing\n",
    "features = preprocess_features(features)\n",
    "if FLAGS.model == 'gcn':\n",
    "    support = [preprocess_adj(adj)]\n",
    "    num_supports = 1\n",
    "    model_func = GCN\n",
    "elif FLAGS.model == 'gcn_cheby':\n",
    "    support = chebyshev_polynomials(adj, FLAGS.max_degree)\n",
    "    num_supports = 1 + FLAGS.max_degree\n",
    "    model_func = GCN\n",
    "elif FLAGS.model == 'dense':\n",
    "    support = [preprocess_adj(adj)]  # Not used\n",
    "    num_supports = 1\n",
    "    model_func = MLP\n",
    "else:\n",
    "    raise ValueError('Invalid argument for model: ' + str(FLAGS.model))\n",
    "\n",
    "# Define placeholders\n",
    "placeholders = {\n",
    "    'support': [tf.sparse_placeholder(tf.float32) for _ in range(num_supports)],\n",
    "    'features': tf.sparse_placeholder(tf.float32, shape=tf.constant(features[2], dtype=tf.int64)),\n",
    "    'labels': tf.placeholder(tf.float32, shape=(None, y_train.shape[1])),\n",
    "    'labels_mask': tf.placeholder(tf.int32),\n",
    "    'dropout': tf.placeholder_with_default(0., shape=()),\n",
    "    'num_features_nonzero': tf.placeholder(tf.int32)  # helper variable for sparse dropout\n",
    "}\n",
    "\n",
    "# Create model\n",
    "model = model_func(placeholders, input_dim=features[2][1], logging=True)\n",
    "\n",
    "# Initialize session\n",
    "sess = tf.Session()\n",
    "\n",
    "\n",
    "# Define model evaluation function\n",
    "def evaluate(features, support, labels, mask, placeholders):\n",
    "    t_test = time.time()\n",
    "    feed_dict_val = construct_feed_dict(features, support, labels, mask, placeholders)\n",
    "    outs_val = sess.run([model.loss, model.accuracy], feed_dict=feed_dict_val)\n",
    "    return outs_val[0], outs_val[1], (time.time() - t_test)"
   ]
  },
  {
   "cell_type": "code",
   "execution_count": 7,
   "metadata": {},
   "outputs": [
    {
     "name": "stdout",
     "output_type": "stream",
     "text": [
      "Epoch: 0001 train_loss= 1.95399 train_acc= 0.07143 val_loss= 1.95070 val_acc= 0.20600 time= 0.05727\n",
      "Epoch: 0002 train_loss= 1.94801 train_acc= 0.29286 val_loss= 1.94716 val_acc= 0.37000 time= 0.01978\n",
      "Epoch: 0003 train_loss= 1.94218 train_acc= 0.48571 val_loss= 1.94333 val_acc= 0.47000 time= 0.01930\n",
      "Epoch: 0004 train_loss= 1.93654 train_acc= 0.56429 val_loss= 1.93922 val_acc= 0.50400 time= 0.02386\n",
      "Epoch: 0005 train_loss= 1.92665 train_acc= 0.66429 val_loss= 1.93517 val_acc= 0.50400 time= 0.02530\n",
      "Epoch: 0006 train_loss= 1.92017 train_acc= 0.70000 val_loss= 1.93110 val_acc= 0.51400 time= 0.02431\n",
      "Epoch: 0007 train_loss= 1.91050 train_acc= 0.71429 val_loss= 1.92704 val_acc= 0.52000 time= 0.03184\n",
      "Epoch: 0008 train_loss= 1.89941 train_acc= 0.71429 val_loss= 1.92310 val_acc= 0.51600 time= 0.02898\n",
      "Epoch: 0009 train_loss= 1.89015 train_acc= 0.75714 val_loss= 1.91920 val_acc= 0.52000 time= 0.02848\n",
      "Epoch: 0010 train_loss= 1.88369 train_acc= 0.67143 val_loss= 1.91527 val_acc= 0.52000 time= 0.03069\n",
      "Epoch: 0011 train_loss= 1.87589 train_acc= 0.72143 val_loss= 1.91122 val_acc= 0.52000 time= 0.03296\n",
      "Epoch: 0012 train_loss= 1.86910 train_acc= 0.68571 val_loss= 1.90708 val_acc= 0.53200 time= 0.02509\n",
      "Epoch: 0013 train_loss= 1.85591 train_acc= 0.70714 val_loss= 1.90297 val_acc= 0.53400 time= 0.03578\n",
      "Epoch: 0014 train_loss= 1.84738 train_acc= 0.71429 val_loss= 1.89877 val_acc= 0.55200 time= 0.03303\n",
      "Epoch: 0015 train_loss= 1.83186 train_acc= 0.72857 val_loss= 1.89443 val_acc= 0.56000 time= 0.02722\n",
      "Epoch: 0016 train_loss= 1.81894 train_acc= 0.77857 val_loss= 1.89003 val_acc= 0.57200 time= 0.03179\n",
      "Epoch: 0017 train_loss= 1.81409 train_acc= 0.73571 val_loss= 1.88559 val_acc= 0.58600 time= 0.03777\n",
      "Epoch: 0018 train_loss= 1.79738 train_acc= 0.76429 val_loss= 1.88102 val_acc= 0.59200 time= 0.03167\n",
      "Epoch: 0019 train_loss= 1.79215 train_acc= 0.75000 val_loss= 1.87632 val_acc= 0.58800 time= 0.02953\n",
      "Epoch: 0020 train_loss= 1.77766 train_acc= 0.75000 val_loss= 1.87153 val_acc= 0.59400 time= 0.03374\n",
      "Epoch: 0021 train_loss= 1.76760 train_acc= 0.77857 val_loss= 1.86662 val_acc= 0.59200 time= 0.02943\n",
      "Epoch: 0022 train_loss= 1.74438 train_acc= 0.81429 val_loss= 1.86159 val_acc= 0.58800 time= 0.03098\n",
      "Epoch: 0023 train_loss= 1.74515 train_acc= 0.78571 val_loss= 1.85646 val_acc= 0.59000 time= 0.03402\n",
      "Epoch: 0024 train_loss= 1.73049 train_acc= 0.80000 val_loss= 1.85116 val_acc= 0.59200 time= 0.03641\n",
      "Epoch: 0025 train_loss= 1.71461 train_acc= 0.77857 val_loss= 1.84557 val_acc= 0.59600 time= 0.03408\n",
      "Epoch: 0026 train_loss= 1.68822 train_acc= 0.80714 val_loss= 1.83967 val_acc= 0.60200 time= 0.03185\n",
      "Epoch: 0027 train_loss= 1.68093 train_acc= 0.78571 val_loss= 1.83355 val_acc= 0.60600 time= 0.03026\n",
      "Epoch: 0028 train_loss= 1.68646 train_acc= 0.76429 val_loss= 1.82723 val_acc= 0.62200 time= 0.03200\n",
      "Epoch: 0029 train_loss= 1.66409 train_acc= 0.79286 val_loss= 1.82073 val_acc= 0.62800 time= 0.03118\n",
      "Epoch: 0030 train_loss= 1.64123 train_acc= 0.77143 val_loss= 1.81413 val_acc= 0.63800 time= 0.03547\n",
      "Epoch: 0031 train_loss= 1.62944 train_acc= 0.80000 val_loss= 1.80741 val_acc= 0.64400 time= 0.03337\n",
      "Epoch: 0032 train_loss= 1.62115 train_acc= 0.79286 val_loss= 1.80045 val_acc= 0.65200 time= 0.03806\n",
      "Epoch: 0033 train_loss= 1.60770 train_acc= 0.82857 val_loss= 1.79344 val_acc= 0.65400 time= 0.02836\n",
      "Epoch: 0034 train_loss= 1.60463 train_acc= 0.81429 val_loss= 1.78648 val_acc= 0.66000 time= 0.03064\n",
      "Epoch: 0035 train_loss= 1.56832 train_acc= 0.85714 val_loss= 1.77930 val_acc= 0.66400 time= 0.02912\n",
      "Epoch: 0036 train_loss= 1.55106 train_acc= 0.87143 val_loss= 1.77186 val_acc= 0.67000 time= 0.02963\n",
      "Epoch: 0037 train_loss= 1.53871 train_acc= 0.87857 val_loss= 1.76430 val_acc= 0.67400 time= 0.03189\n",
      "Epoch: 0038 train_loss= 1.51639 train_acc= 0.84286 val_loss= 1.75637 val_acc= 0.68200 time= 0.03488\n",
      "Epoch: 0039 train_loss= 1.52742 train_acc= 0.87143 val_loss= 1.74819 val_acc= 0.69000 time= 0.03061\n",
      "Epoch: 0040 train_loss= 1.49984 train_acc= 0.87143 val_loss= 1.74004 val_acc= 0.68800 time= 0.03391\n",
      "Epoch: 0041 train_loss= 1.49882 train_acc= 0.85000 val_loss= 1.73166 val_acc= 0.69200 time= 0.03044\n",
      "Epoch: 0042 train_loss= 1.45390 train_acc= 0.85714 val_loss= 1.72328 val_acc= 0.69600 time= 0.03139\n",
      "Epoch: 0043 train_loss= 1.47726 train_acc= 0.83571 val_loss= 1.71492 val_acc= 0.69600 time= 0.03608\n",
      "Epoch: 0044 train_loss= 1.43801 train_acc= 0.82857 val_loss= 1.70627 val_acc= 0.70800 time= 0.03384\n",
      "Epoch: 0045 train_loss= 1.42582 train_acc= 0.84286 val_loss= 1.69771 val_acc= 0.71200 time= 0.02769\n",
      "Epoch: 0046 train_loss= 1.37447 train_acc= 0.87857 val_loss= 1.68892 val_acc= 0.72000 time= 0.02388\n",
      "Epoch: 0047 train_loss= 1.37587 train_acc= 0.82857 val_loss= 1.67985 val_acc= 0.72400 time= 0.02270\n",
      "Epoch: 0048 train_loss= 1.37041 train_acc= 0.91429 val_loss= 1.67064 val_acc= 0.73000 time= 0.02866\n",
      "Epoch: 0049 train_loss= 1.37453 train_acc= 0.84286 val_loss= 1.66152 val_acc= 0.73400 time= 0.02326\n",
      "Epoch: 0050 train_loss= 1.32568 train_acc= 0.85714 val_loss= 1.65225 val_acc= 0.73200 time= 0.02343\n",
      "Epoch: 0051 train_loss= 1.38851 train_acc= 0.85714 val_loss= 1.64305 val_acc= 0.73600 time= 0.03054\n",
      "Epoch: 0052 train_loss= 1.32950 train_acc= 0.89286 val_loss= 1.63386 val_acc= 0.73600 time= 0.03364\n",
      "Epoch: 0053 train_loss= 1.32623 train_acc= 0.89286 val_loss= 1.62455 val_acc= 0.73600 time= 0.03200\n",
      "Epoch: 0054 train_loss= 1.30045 train_acc= 0.87143 val_loss= 1.61519 val_acc= 0.74200 time= 0.03403\n",
      "Epoch: 0055 train_loss= 1.28332 train_acc= 0.89286 val_loss= 1.60586 val_acc= 0.74200 time= 0.03082\n",
      "Epoch: 0056 train_loss= 1.23221 train_acc= 0.90714 val_loss= 1.59672 val_acc= 0.74400 time= 0.03442\n",
      "Epoch: 0057 train_loss= 1.26357 train_acc= 0.90714 val_loss= 1.58782 val_acc= 0.74600 time= 0.03361\n",
      "Epoch: 0058 train_loss= 1.22354 train_acc= 0.90000 val_loss= 1.57871 val_acc= 0.74800 time= 0.03089\n",
      "Epoch: 0059 train_loss= 1.23061 train_acc= 0.91429 val_loss= 1.56945 val_acc= 0.75200 time= 0.03592\n",
      "Epoch: 0060 train_loss= 1.25688 train_acc= 0.90000 val_loss= 1.56006 val_acc= 0.75600 time= 0.03533\n",
      "Epoch: 0061 train_loss= 1.18911 train_acc= 0.89286 val_loss= 1.55086 val_acc= 0.75600 time= 0.03158\n",
      "Epoch: 0062 train_loss= 1.20369 train_acc= 0.90000 val_loss= 1.54161 val_acc= 0.75800 time= 0.03591\n",
      "Epoch: 0063 train_loss= 1.13703 train_acc= 0.89286 val_loss= 1.53249 val_acc= 0.76200 time= 0.03163\n",
      "Epoch: 0064 train_loss= 1.18960 train_acc= 0.86429 val_loss= 1.52341 val_acc= 0.76200 time= 0.02701\n",
      "Epoch: 0065 train_loss= 1.17308 train_acc= 0.92857 val_loss= 1.51439 val_acc= 0.76400 time= 0.02480\n",
      "Epoch: 0066 train_loss= 1.12569 train_acc= 0.92857 val_loss= 1.50526 val_acc= 0.77000 time= 0.02181\n",
      "Epoch: 0067 train_loss= 1.12062 train_acc= 0.88571 val_loss= 1.49642 val_acc= 0.77400 time= 0.02606\n",
      "Epoch: 0068 train_loss= 1.11809 train_acc= 0.93571 val_loss= 1.48789 val_acc= 0.77200 time= 0.02515\n",
      "Epoch: 0069 train_loss= 1.12220 train_acc= 0.91429 val_loss= 1.47969 val_acc= 0.77200 time= 0.02566\n",
      "Epoch: 0070 train_loss= 1.09568 train_acc= 0.92143 val_loss= 1.47169 val_acc= 0.77000 time= 0.02693\n",
      "Epoch: 0071 train_loss= 1.09616 train_acc= 0.88571 val_loss= 1.46357 val_acc= 0.77400 time= 0.03020\n",
      "Epoch: 0072 train_loss= 1.07255 train_acc= 0.93571 val_loss= 1.45562 val_acc= 0.77600 time= 0.02733\n",
      "Epoch: 0073 train_loss= 1.06721 train_acc= 0.96429 val_loss= 1.44818 val_acc= 0.77400 time= 0.02542\n",
      "Epoch: 0074 train_loss= 1.10403 train_acc= 0.89286 val_loss= 1.44058 val_acc= 0.77400 time= 0.02946\n",
      "Epoch: 0075 train_loss= 1.01538 train_acc= 0.92143 val_loss= 1.43314 val_acc= 0.77600 time= 0.03307\n",
      "Epoch: 0076 train_loss= 1.00960 train_acc= 0.94286 val_loss= 1.42541 val_acc= 0.77600 time= 0.03076\n",
      "Epoch: 0077 train_loss= 0.95229 train_acc= 0.95000 val_loss= 1.41774 val_acc= 0.77600 time= 0.03524\n",
      "Epoch: 0078 train_loss= 1.04013 train_acc= 0.91429 val_loss= 1.41061 val_acc= 0.77600 time= 0.04139\n",
      "Epoch: 0079 train_loss= 1.00806 train_acc= 0.92857 val_loss= 1.40379 val_acc= 0.77600 time= 0.03464\n",
      "Epoch: 0080 train_loss= 1.00069 train_acc= 0.95000 val_loss= 1.39687 val_acc= 0.77600 time= 0.03909\n",
      "Epoch: 0081 train_loss= 0.97463 train_acc= 0.91429 val_loss= 1.39013 val_acc= 0.77600 time= 0.03191\n",
      "Epoch: 0082 train_loss= 0.96301 train_acc= 0.95714 val_loss= 1.38356 val_acc= 0.77600 time= 0.02669\n"
     ]
    },
    {
     "name": "stdout",
     "output_type": "stream",
     "text": [
      "Epoch: 0083 train_loss= 0.95958 train_acc= 0.95000 val_loss= 1.37702 val_acc= 0.77600 time= 0.02707\n",
      "Epoch: 0084 train_loss= 0.97093 train_acc= 0.93571 val_loss= 1.37043 val_acc= 0.77600 time= 0.03156\n",
      "Epoch: 0085 train_loss= 0.94742 train_acc= 0.96429 val_loss= 1.36384 val_acc= 0.77600 time= 0.02068\n",
      "Epoch: 0086 train_loss= 0.94996 train_acc= 0.93571 val_loss= 1.35739 val_acc= 0.77800 time= 0.02001\n",
      "Epoch: 0087 train_loss= 0.97249 train_acc= 0.92857 val_loss= 1.35100 val_acc= 0.78000 time= 0.01884\n",
      "Epoch: 0088 train_loss= 0.94913 train_acc= 0.93571 val_loss= 1.34459 val_acc= 0.78000 time= 0.01806\n",
      "Epoch: 0089 train_loss= 0.97455 train_acc= 0.91429 val_loss= 1.33826 val_acc= 0.78000 time= 0.01990\n",
      "Epoch: 0090 train_loss= 0.97957 train_acc= 0.91429 val_loss= 1.33204 val_acc= 0.78000 time= 0.02031\n",
      "Epoch: 0091 train_loss= 0.92480 train_acc= 0.95000 val_loss= 1.32596 val_acc= 0.78000 time= 0.01888\n",
      "Epoch: 0092 train_loss= 0.95817 train_acc= 0.92143 val_loss= 1.32011 val_acc= 0.78000 time= 0.01836\n",
      "Epoch: 0093 train_loss= 0.89500 train_acc= 0.95000 val_loss= 1.31456 val_acc= 0.77800 time= 0.02101\n",
      "Epoch: 0094 train_loss= 0.86474 train_acc= 0.92857 val_loss= 1.30937 val_acc= 0.77800 time= 0.02757\n",
      "Epoch: 0095 train_loss= 0.90715 train_acc= 0.96429 val_loss= 1.30445 val_acc= 0.78000 time= 0.02758\n",
      "Epoch: 0096 train_loss= 0.89772 train_acc= 0.93571 val_loss= 1.29963 val_acc= 0.78000 time= 0.03180\n",
      "Epoch: 0097 train_loss= 0.88455 train_acc= 0.93571 val_loss= 1.29490 val_acc= 0.78000 time= 0.03080\n",
      "Epoch: 0098 train_loss= 0.93267 train_acc= 0.91429 val_loss= 1.29068 val_acc= 0.78000 time= 0.02772\n",
      "Epoch: 0099 train_loss= 0.88896 train_acc= 0.94286 val_loss= 1.28639 val_acc= 0.78400 time= 0.03198\n",
      "Epoch: 0100 train_loss= 0.90960 train_acc= 0.91429 val_loss= 1.28227 val_acc= 0.78400 time= 0.02730\n",
      "Epoch: 0101 train_loss= 0.86087 train_acc= 0.95714 val_loss= 1.27814 val_acc= 0.78400 time= 0.02492\n",
      "Epoch: 0102 train_loss= 0.86598 train_acc= 0.93571 val_loss= 1.27432 val_acc= 0.78400 time= 0.02419\n",
      "Epoch: 0103 train_loss= 0.83829 train_acc= 0.93571 val_loss= 1.27057 val_acc= 0.78400 time= 0.02498\n",
      "Epoch: 0104 train_loss= 0.84580 train_acc= 0.95000 val_loss= 1.26665 val_acc= 0.78400 time= 0.02471\n",
      "Epoch: 0105 train_loss= 0.82976 train_acc= 0.95714 val_loss= 1.26240 val_acc= 0.78000 time= 0.02457\n",
      "Epoch: 0106 train_loss= 0.86847 train_acc= 0.92857 val_loss= 1.25843 val_acc= 0.78000 time= 0.02434\n",
      "Epoch: 0107 train_loss= 0.86326 train_acc= 0.93571 val_loss= 1.25464 val_acc= 0.77800 time= 0.02446\n",
      "Epoch: 0108 train_loss= 0.83011 train_acc= 0.94286 val_loss= 1.25113 val_acc= 0.77800 time= 0.02916\n",
      "Epoch: 0109 train_loss= 0.84336 train_acc= 0.95000 val_loss= 1.24781 val_acc= 0.77800 time= 0.03142\n",
      "Epoch: 0110 train_loss= 0.78123 train_acc= 0.95000 val_loss= 1.24383 val_acc= 0.77800 time= 0.03127\n",
      "Epoch: 0111 train_loss= 0.83708 train_acc= 0.95000 val_loss= 1.24008 val_acc= 0.77800 time= 0.02232\n",
      "Epoch: 0112 train_loss= 0.85494 train_acc= 0.92857 val_loss= 1.23682 val_acc= 0.77800 time= 0.02619\n",
      "Epoch: 0113 train_loss= 0.79999 train_acc= 0.92857 val_loss= 1.23371 val_acc= 0.78000 time= 0.02506\n",
      "Epoch: 0114 train_loss= 0.79866 train_acc= 0.92857 val_loss= 1.23075 val_acc= 0.78000 time= 0.02466\n",
      "Epoch: 0115 train_loss= 0.80150 train_acc= 0.94286 val_loss= 1.22764 val_acc= 0.78000 time= 0.02957\n",
      "Epoch: 0116 train_loss= 0.81792 train_acc= 0.97143 val_loss= 1.22439 val_acc= 0.78000 time= 0.02742\n",
      "Epoch: 0117 train_loss= 0.78448 train_acc= 0.95000 val_loss= 1.22124 val_acc= 0.78400 time= 0.02493\n",
      "Epoch: 0118 train_loss= 0.79777 train_acc= 0.95000 val_loss= 1.21824 val_acc= 0.78000 time= 0.02857\n",
      "Epoch: 0119 train_loss= 0.77666 train_acc= 0.95714 val_loss= 1.21523 val_acc= 0.78200 time= 0.03278\n",
      "Epoch: 0120 train_loss= 0.77692 train_acc= 0.97143 val_loss= 1.21201 val_acc= 0.78200 time= 0.03084\n",
      "Epoch: 0121 train_loss= 0.77942 train_acc= 0.95000 val_loss= 1.20875 val_acc= 0.78400 time= 0.03281\n",
      "Epoch: 0122 train_loss= 0.78487 train_acc= 0.94286 val_loss= 1.20480 val_acc= 0.78200 time= 0.02578\n",
      "Epoch: 0123 train_loss= 0.76759 train_acc= 0.95000 val_loss= 1.20085 val_acc= 0.78200 time= 0.02551\n",
      "Epoch: 0124 train_loss= 0.74731 train_acc= 0.95000 val_loss= 1.19699 val_acc= 0.78000 time= 0.02500\n",
      "Epoch: 0125 train_loss= 0.75950 train_acc= 0.95000 val_loss= 1.19287 val_acc= 0.78000 time= 0.02538\n",
      "Epoch: 0126 train_loss= 0.75599 train_acc= 0.95714 val_loss= 1.18858 val_acc= 0.78000 time= 0.03130\n",
      "Epoch: 0127 train_loss= 0.74233 train_acc= 0.95000 val_loss= 1.18441 val_acc= 0.78000 time= 0.03316\n",
      "Epoch: 0128 train_loss= 0.75403 train_acc= 0.95714 val_loss= 1.18006 val_acc= 0.78000 time= 0.03634\n",
      "Epoch: 0129 train_loss= 0.76155 train_acc= 0.94286 val_loss= 1.17581 val_acc= 0.78000 time= 0.03349\n",
      "Epoch: 0130 train_loss= 0.74934 train_acc= 0.93571 val_loss= 1.17175 val_acc= 0.78000 time= 0.03078\n",
      "Epoch: 0131 train_loss= 0.76718 train_acc= 0.94286 val_loss= 1.16783 val_acc= 0.78200 time= 0.03146\n",
      "Epoch: 0132 train_loss= 0.74461 train_acc= 0.95000 val_loss= 1.16445 val_acc= 0.78200 time= 0.02702\n",
      "Epoch: 0133 train_loss= 0.72737 train_acc= 0.95000 val_loss= 1.16198 val_acc= 0.78200 time= 0.02540\n",
      "Epoch: 0134 train_loss= 0.72769 train_acc= 0.95000 val_loss= 1.16005 val_acc= 0.78200 time= 0.02301\n",
      "Epoch: 0135 train_loss= 0.73893 train_acc= 0.94286 val_loss= 1.15833 val_acc= 0.78200 time= 0.02397\n",
      "Epoch: 0136 train_loss= 0.70035 train_acc= 0.95714 val_loss= 1.15682 val_acc= 0.78000 time= 0.02887\n",
      "Epoch: 0137 train_loss= 0.79603 train_acc= 0.93571 val_loss= 1.15521 val_acc= 0.78200 time= 0.02410\n",
      "Epoch: 0138 train_loss= 0.71783 train_acc= 0.97143 val_loss= 1.15365 val_acc= 0.78200 time= 0.02366\n",
      "Epoch: 0139 train_loss= 0.72414 train_acc= 0.93571 val_loss= 1.15218 val_acc= 0.78200 time= 0.01933\n",
      "Epoch: 0140 train_loss= 0.76024 train_acc= 0.92857 val_loss= 1.15087 val_acc= 0.78000 time= 0.01874\n",
      "Epoch: 0141 train_loss= 0.71716 train_acc= 0.94286 val_loss= 1.15020 val_acc= 0.78400 time= 0.01846\n",
      "Epoch: 0142 train_loss= 0.65483 train_acc= 0.95000 val_loss= 1.14929 val_acc= 0.78600 time= 0.01971\n",
      "Epoch: 0143 train_loss= 0.70601 train_acc= 0.97857 val_loss= 1.14833 val_acc= 0.78600 time= 0.01969\n",
      "Epoch: 0144 train_loss= 0.75722 train_acc= 0.96429 val_loss= 1.14718 val_acc= 0.78600 time= 0.01838\n",
      "Epoch: 0145 train_loss= 0.70279 train_acc= 0.95714 val_loss= 1.14563 val_acc= 0.78600 time= 0.02277\n",
      "Epoch: 0146 train_loss= 0.68137 train_acc= 0.95714 val_loss= 1.14390 val_acc= 0.78600 time= 0.02778\n",
      "Epoch: 0147 train_loss= 0.70446 train_acc= 0.92143 val_loss= 1.14202 val_acc= 0.78600 time= 0.02642\n",
      "Epoch: 0148 train_loss= 0.67626 train_acc= 0.96429 val_loss= 1.13986 val_acc= 0.78600 time= 0.02561\n",
      "Epoch: 0149 train_loss= 0.70559 train_acc= 0.99286 val_loss= 1.13795 val_acc= 0.78600 time= 0.02066\n",
      "Epoch: 0150 train_loss= 0.65854 train_acc= 0.96429 val_loss= 1.13567 val_acc= 0.78600 time= 0.02145\n",
      "Epoch: 0151 train_loss= 0.69488 train_acc= 0.97143 val_loss= 1.13300 val_acc= 0.78400 time= 0.02381\n",
      "Epoch: 0152 train_loss= 0.68918 train_acc= 0.97857 val_loss= 1.13042 val_acc= 0.78400 time= 0.02273\n",
      "Epoch: 0153 train_loss= 0.73951 train_acc= 0.92143 val_loss= 1.12752 val_acc= 0.78400 time= 0.02619\n",
      "Epoch: 0154 train_loss= 0.65691 train_acc= 0.97857 val_loss= 1.12448 val_acc= 0.78400 time= 0.03058\n",
      "Epoch: 0155 train_loss= 0.68707 train_acc= 0.97143 val_loss= 1.12171 val_acc= 0.78600 time= 0.02696\n",
      "Epoch: 0156 train_loss= 0.70395 train_acc= 0.97143 val_loss= 1.11998 val_acc= 0.78600 time= 0.03536\n",
      "Epoch: 0157 train_loss= 0.67509 train_acc= 0.96429 val_loss= 1.11802 val_acc= 0.78600 time= 0.02697\n",
      "Epoch: 0158 train_loss= 0.70231 train_acc= 0.94286 val_loss= 1.11607 val_acc= 0.78600 time= 0.03427\n",
      "Epoch: 0159 train_loss= 0.65953 train_acc= 0.97143 val_loss= 1.11402 val_acc= 0.78400 time= 0.03032\n",
      "Epoch: 0160 train_loss= 0.70041 train_acc= 0.97143 val_loss= 1.11227 val_acc= 0.78400 time= 0.02702\n",
      "Epoch: 0161 train_loss= 0.70023 train_acc= 0.97143 val_loss= 1.11047 val_acc= 0.78200 time= 0.02510\n",
      "Epoch: 0162 train_loss= 0.68871 train_acc= 0.95714 val_loss= 1.10819 val_acc= 0.78400 time= 0.02620\n",
      "Epoch: 0163 train_loss= 0.65557 train_acc= 0.98571 val_loss= 1.10623 val_acc= 0.78200 time= 0.02228\n",
      "Epoch: 0164 train_loss= 0.73047 train_acc= 0.93571 val_loss= 1.10486 val_acc= 0.78000 time= 0.02617\n",
      "Epoch: 0165 train_loss= 0.68565 train_acc= 0.95714 val_loss= 1.10370 val_acc= 0.78000 time= 0.02639\n",
      "Epoch: 0166 train_loss= 0.65343 train_acc= 0.97143 val_loss= 1.10239 val_acc= 0.78000 time= 0.02369\n",
      "Epoch: 0167 train_loss= 0.70125 train_acc= 0.97143 val_loss= 1.10147 val_acc= 0.78200 time= 0.02810\n"
     ]
    },
    {
     "name": "stdout",
     "output_type": "stream",
     "text": [
      "Epoch: 0168 train_loss= 0.69909 train_acc= 0.95000 val_loss= 1.10069 val_acc= 0.78000 time= 0.02438\n",
      "Epoch: 0169 train_loss= 0.65012 train_acc= 0.96429 val_loss= 1.10007 val_acc= 0.78200 time= 0.02809\n",
      "Epoch: 0170 train_loss= 0.66773 train_acc= 0.95000 val_loss= 1.09972 val_acc= 0.78200 time= 0.02675\n",
      "Epoch: 0171 train_loss= 0.72109 train_acc= 0.92857 val_loss= 1.09840 val_acc= 0.78200 time= 0.02557\n",
      "Epoch: 0172 train_loss= 0.67563 train_acc= 0.95714 val_loss= 1.09644 val_acc= 0.78200 time= 0.02519\n",
      "Epoch: 0173 train_loss= 0.64704 train_acc= 0.97143 val_loss= 1.09398 val_acc= 0.78200 time= 0.02358\n",
      "Epoch: 0174 train_loss= 0.58342 train_acc= 0.98571 val_loss= 1.09138 val_acc= 0.77800 time= 0.02265\n",
      "Epoch: 0175 train_loss= 0.67515 train_acc= 0.94286 val_loss= 1.08887 val_acc= 0.77400 time= 0.02212\n",
      "Epoch: 0176 train_loss= 0.68394 train_acc= 0.93571 val_loss= 1.08582 val_acc= 0.77800 time= 0.02257\n",
      "Epoch: 0177 train_loss= 0.70085 train_acc= 0.94286 val_loss= 1.08304 val_acc= 0.77800 time= 0.02776\n",
      "Epoch: 0178 train_loss= 0.60540 train_acc= 0.98571 val_loss= 1.08044 val_acc= 0.77800 time= 0.02549\n",
      "Epoch: 0179 train_loss= 0.63127 train_acc= 0.95000 val_loss= 1.07856 val_acc= 0.78200 time= 0.02311\n",
      "Epoch: 0180 train_loss= 0.69479 train_acc= 0.93571 val_loss= 1.07661 val_acc= 0.78200 time= 0.02272\n",
      "Epoch: 0181 train_loss= 0.62900 train_acc= 0.97857 val_loss= 1.07482 val_acc= 0.78600 time= 0.02442\n",
      "Epoch: 0182 train_loss= 0.64596 train_acc= 0.92857 val_loss= 1.07334 val_acc= 0.78600 time= 0.02593\n",
      "Epoch: 0183 train_loss= 0.59649 train_acc= 0.97857 val_loss= 1.07162 val_acc= 0.78400 time= 0.02298\n",
      "Epoch: 0184 train_loss= 0.64177 train_acc= 0.96429 val_loss= 1.07015 val_acc= 0.78400 time= 0.02487\n",
      "Epoch: 0185 train_loss= 0.61356 train_acc= 0.96429 val_loss= 1.06902 val_acc= 0.78400 time= 0.02420\n",
      "Epoch: 0186 train_loss= 0.64748 train_acc= 0.95000 val_loss= 1.06780 val_acc= 0.78600 time= 0.02718\n",
      "Epoch: 0187 train_loss= 0.63458 train_acc= 0.96429 val_loss= 1.06619 val_acc= 0.78800 time= 0.03198\n",
      "Epoch: 0188 train_loss= 0.60758 train_acc= 0.97143 val_loss= 1.06476 val_acc= 0.78800 time= 0.02572\n",
      "Epoch: 0189 train_loss= 0.63303 train_acc= 0.95714 val_loss= 1.06355 val_acc= 0.78800 time= 0.02361\n",
      "Epoch: 0190 train_loss= 0.62635 train_acc= 0.98571 val_loss= 1.06231 val_acc= 0.78400 time= 0.04064\n",
      "Epoch: 0191 train_loss= 0.60898 train_acc= 0.98571 val_loss= 1.06063 val_acc= 0.78200 time= 0.02825\n",
      "Epoch: 0192 train_loss= 0.63756 train_acc= 0.95714 val_loss= 1.05901 val_acc= 0.77800 time= 0.03679\n",
      "Epoch: 0193 train_loss= 0.62371 train_acc= 0.94286 val_loss= 1.05767 val_acc= 0.77800 time= 0.03051\n",
      "Epoch: 0194 train_loss= 0.60151 train_acc= 0.96429 val_loss= 1.05636 val_acc= 0.77800 time= 0.02656\n",
      "Epoch: 0195 train_loss= 0.60843 train_acc= 0.95714 val_loss= 1.05533 val_acc= 0.77800 time= 0.02505\n",
      "Epoch: 0196 train_loss= 0.59138 train_acc= 0.97143 val_loss= 1.05411 val_acc= 0.78000 time= 0.02608\n",
      "Epoch: 0197 train_loss= 0.59821 train_acc= 0.97857 val_loss= 1.05297 val_acc= 0.78000 time= 0.02541\n",
      "Epoch: 0198 train_loss= 0.60693 train_acc= 0.97143 val_loss= 1.05188 val_acc= 0.77800 time= 0.02760\n",
      "Epoch: 0199 train_loss= 0.60899 train_acc= 0.95714 val_loss= 1.05047 val_acc= 0.77800 time= 0.02598\n",
      "Epoch: 0200 train_loss= 0.59147 train_acc= 0.97143 val_loss= 1.04964 val_acc= 0.77800 time= 0.03220\n",
      "Optimization Finished!\n"
     ]
    }
   ],
   "source": [
    "# Initialize weights\n",
    "sess.run(tf.global_variables_initializer())\n",
    "\n",
    "train_loss = []\n",
    "validation_loss = []\n",
    "train_accuracy = []\n",
    "validation_accuracy = []\n",
    "\n",
    "\n",
    "# Train model\n",
    "for epoch in range(FLAGS.epochs):\n",
    "\n",
    "    t = time.time()\n",
    "    # Construct feed dictionary\n",
    "    feed_dict = construct_feed_dict(features, support, y_train, train_mask, placeholders)\n",
    "    feed_dict.update({placeholders['dropout']: FLAGS.dropout})\n",
    "\n",
    "    # Training step\n",
    "    outs = sess.run([model.opt_op, model.loss, model.accuracy], feed_dict=feed_dict)\n",
    "    \n",
    "    # Validation\n",
    "    cost, acc, duration = evaluate(features, support, y_val, val_mask, placeholders)\n",
    "    validation_loss.append(cost)\n",
    "    validation_accuracy.append(acc)\n",
    "    train_loss.append(outs[1])\n",
    "    train_accuracy.append(outs[2])\n",
    "\n",
    "    # Print results\n",
    "    print(\"Epoch:\", '%04d' % (epoch + 1), \"train_loss=\", \"{:.5f}\".format(outs[1]),\n",
    "          \"train_acc=\", \"{:.5f}\".format(outs[2]), \"val_loss=\", \"{:.5f}\".format(cost),\n",
    "          \"val_acc=\", \"{:.5f}\".format(acc), \"time=\", \"{:.5f}\".format(time.time() - t))\n",
    "\n",
    "    if epoch > FLAGS.early_stopping and validation_loss[-1] > np.mean(validation_loss[-(FLAGS.early_stopping+1):-1]):\n",
    "        print(\"Early stopping...\")\n",
    "        break\n",
    "\n",
    "print(\"Optimization Finished!\")"
   ]
  },
  {
   "cell_type": "code",
   "execution_count": 8,
   "metadata": {},
   "outputs": [
    {
     "name": "stdout",
     "output_type": "stream",
     "text": [
      "Test set results: cost= 1.01263 accuracy= 0.81400 time= 0.01358\n"
     ]
    }
   ],
   "source": [
    "# Testing\n",
    "test_cost, test_acc, test_duration = evaluate(features, support, y_test, test_mask, placeholders)\n",
    "print(\"Test set results:\", \"cost=\", \"{:.5f}\".format(test_cost),\n",
    "      \"accuracy=\", \"{:.5f}\".format(test_acc), \"time=\", \"{:.5f}\".format(test_duration))"
   ]
  },
  {
   "cell_type": "code",
   "execution_count": 9,
   "metadata": {},
   "outputs": [
    {
     "data": {
      "image/png": "[encoded data removed]",
      "text/plain": [
       "<matplotlib.figure.Figure at 0x1188736a0>"
      ]
     },
     "metadata": {},
     "output_type": "display_data"
    }
   ],
   "source": [
    "import matplotlib.pyplot as plt\n",
    "plt.figure()\n",
    "plt.plot(train_accuracy,label = 'train_accuracy')\n",
    "plt.plot(train_loss,label = 'train_loss')\n",
    "plt.plot(validation_accuracy, label='validation_accuracy')\n",
    "plt.plot(validation_loss,label='validaton_loss')\n",
    "plt.legend()\n",
    "plt.show()"
   ]
  },
  {
   "cell_type": "markdown",
   "metadata": {},
   "source": [
    "# 1. With no weight dacy / dropout  (covered in class)"
   ]
  },
  {
   "cell_type": "markdown",
   "metadata": {},
   "source": [
    "Make a plot of training accuracy, training loss, validation accuracy and validation loss against the number of steps **without weight decay and without dropout**."
   ]
  },
  {
   "cell_type": "markdown",
   "metadata": {},
   "source": [
    "# 2. Change it to $A^2$ (covered in class)"
   ]
  },
  {
   "cell_type": "markdown",
   "metadata": {},
   "source": [
    "Make a plot of training accuracy, training loss, validation accuracy and validation loss against the number of steps **after changing the adjacency matrix to $A^2$ **."
   ]
  },
  {
   "cell_type": "markdown",
   "metadata": {},
   "source": [
    "# 3. Change to the $L_2$ loss"
   ]
  },
  {
   "cell_type": "markdown",
   "metadata": {},
   "source": [
    "Make a plot of training accuracy, training loss, validation accuracy and validation loss against the number of steps **with the loss function being $L_2$ loss**."
   ]
  },
  {
   "cell_type": "code",
   "execution_count": 10,
   "metadata": {
    "collapsed": true
   },
   "outputs": [],
   "source": [
    "#--------------- Your code here --------------#\n",
    "\n",
    "\n",
    "\n",
    "\n",
    "\n",
    "#--------------------------------------------#"
   ]
  },
  {
   "cell_type": "markdown",
   "metadata": {},
   "source": [
    "# 4. Change the input graph/label"
   ]
  },
  {
   "cell_type": "markdown",
   "metadata": {},
   "source": [
    "Now, create the input graphs using a Stochastic Block Model. The number of nodes should be 500, and then feed the true labels using $20%$ of the nodes. The degree of a node must be used as the feature.\n",
    "Make a plot of training accuracy, training loss, validation accuracy and validation loss against the number of steps for this input graph."
   ]
  },
  {
   "cell_type": "code",
   "execution_count": 11,
   "metadata": {
    "collapsed": true
   },
   "outputs": [],
   "source": [
    "#--------------- Your code here --------------#\n",
    "\n",
    "\n",
    "\n",
    "\n",
    "\n",
    "#--------------------------------------------#"
   ]
  },
  {
   "cell_type": "code",
   "execution_count": null,
   "metadata": {
    "collapsed": true
   },
   "outputs": [],
   "source": []
  }
 ],
 "metadata": {
  "kernelspec": {
   "display_name": "Python 3",
   "language": "python",
   "name": "python3"
  },
  "language_info": {
   "codemirror_mode": {
    "name": "ipython",
    "version": 3
   },
   "file_extension": ".py",
   "mimetype": "text/x-python",
   "name": "python",
   "nbconvert_exporter": "python",
   "pygments_lexer": "ipython3",
   "version": "3.6.1"
  }
 },
 "nbformat": 4,
 "nbformat_minor": 2
}
