{
 "cells": [
  {
   "cell_type": "markdown",
   "metadata": {},
   "source": [
    "In this exercise, we will use Tensorflow for classification.\n",
    "\n",
    "To begin, install tensorflow on your machine. __[One way](https://www.youtube.com/watch?v=gDzAm25CORk)__ to do so is using Anaconda. Another is to install pip, and then type in the command line 'pip install tensorflow'.\n",
    "\n"
   ]
  },
  {
   "cell_type": "markdown",
   "metadata": {},
   "source": [
    "## Hello world\n",
    "\n",
    "We will now execute a simple command that creates a __[constant](https://www.tensorflow.org/api_docs/python/tf/constant)__ tensor. We also create a __[session](https://www.tensorflow.org/api_docs/python/tf/Session)__ for running the tensorflow operations."
   ]
  },
  {
   "cell_type": "code",
   "execution_count": 1,
   "metadata": {},
   "outputs": [
    {
     "name": "stdout",
     "output_type": "stream",
     "text": [
      "b'Hello, TensorFlow!'\n"
     ]
    }
   ],
   "source": [
    "import tensorflow as tf\n",
    "\n",
    "hello = tf.constant('Hello, TensorFlow!')\n",
    "sess = tf.Session()\n",
    "print(sess.run(hello))"
   ]
  },
  {
   "cell_type": "markdown",
   "metadata": {},
   "source": [
    "## Basic Operations\n",
    "\n",
    "We now execute some basic operations using the tensorflow library.\n",
    "\n",
    "In a basic **constant operation**, the value returned by the constructor represents the output of the Constant op."
   ]
  },
  {
   "cell_type": "code",
   "execution_count": 2,
   "metadata": {
    "collapsed": true
   },
   "outputs": [],
   "source": [
    "a = tf.constant(2)\n",
    "b = tf.constant(3)"
   ]
  },
  {
   "cell_type": "markdown",
   "metadata": {},
   "source": [
    "Let us launch the default graph."
   ]
  },
  {
   "cell_type": "code",
   "execution_count": 3,
   "metadata": {},
   "outputs": [
    {
     "name": "stdout",
     "output_type": "stream",
     "text": [
      "a: 2 b: 3\n",
      "Addition with constants: 5\n",
      "Multiplication with constants: 6\n"
     ]
    }
   ],
   "source": [
    "with tf.Session() as sess:\n",
    "    print(\"a: %i\" % sess.run(a), \"b: %i\" % sess.run(b))\n",
    "    print(\"Addition with constants: %i\" % sess.run(a+b))\n",
    "    print(\"Multiplication with constants: %i\" % sess.run(a*b))"
   ]
  },
  {
   "cell_type": "markdown",
   "metadata": {},
   "source": [
    "In basic Operations with **variable** graph input, the value returned by the constructor represents the output\n",
    "of the Variable op (define as input when running session). This is done so using a __[placeholder](https://www.tensorflow.org/api_docs/python/tf/placeholder)__."
   ]
  },
  {
   "cell_type": "code",
   "execution_count": 4,
   "metadata": {
    "collapsed": true
   },
   "outputs": [],
   "source": [
    "a = tf.placeholder(tf.int16)\n",
    "b = tf.placeholder(tf.int16)"
   ]
  },
  {
   "cell_type": "markdown",
   "metadata": {},
   "source": [
    "We can define the __[addition](https://www.tensorflow.org/api_docs/python/tf/add)__ and __[multiplication](https://www.tensorflow.org/api_docs/python/tf/multiply)__ operations as follows."
   ]
  },
  {
   "cell_type": "code",
   "execution_count": 5,
   "metadata": {
    "collapsed": true
   },
   "outputs": [],
   "source": [
    "add = tf.add(a, b)\n",
    "mul = tf.multiply(a, b)"
   ]
  },
  {
   "cell_type": "markdown",
   "metadata": {},
   "source": [
    "Let us launch the default graph."
   ]
  },
  {
   "cell_type": "code",
   "execution_count": 6,
   "metadata": {},
   "outputs": [
    {
     "name": "stdout",
     "output_type": "stream",
     "text": [
      "Addition with variables: 5\n",
      "Multiplication with variables: 6\n"
     ]
    }
   ],
   "source": [
    "with tf.Session() as sess:\n",
    "    # Run every operation with variable input\n",
    "    print(\"Addition with variables: %i\" % sess.run(add, feed_dict={a: 2, b: 3}))\n",
    "    print(\"Multiplication with variables: %i\" % sess.run(mul, feed_dict={a: 2, b: 3}))"
   ]
  },
  {
   "cell_type": "markdown",
   "metadata": {},
   "source": [
    "Let us now look at **matrix multiplication**. \n",
    "\n",
    "Create a Constant op that produces a 1x2 matrix.  The op is added as a node to the default graph."
   ]
  },
  {
   "cell_type": "code",
   "execution_count": 7,
   "metadata": {
    "collapsed": true
   },
   "outputs": [],
   "source": [
    "matrix1 = tf.constant([[3., 3.]])"
   ]
  },
  {
   "cell_type": "markdown",
   "metadata": {},
   "source": [
    "Create another Constant that produces a 2x1 matrix."
   ]
  },
  {
   "cell_type": "code",
   "execution_count": 8,
   "metadata": {
    "collapsed": true
   },
   "outputs": [],
   "source": [
    "matrix2 = tf.constant([[2.],[2.]])"
   ]
  },
  {
   "cell_type": "markdown",
   "metadata": {},
   "source": [
    "Create a __[Matmul](https://www.tensorflow.org/api_docs/python/tf/matmul)__ op that takes 'matrix1' and 'matrix2' as inputs. The returned value, 'product', represents the result of the matrix multiplication."
   ]
  },
  {
   "cell_type": "code",
   "execution_count": 9,
   "metadata": {
    "collapsed": true
   },
   "outputs": [],
   "source": [
    "product = tf.matmul(matrix1, matrix2)"
   ]
  },
  {
   "cell_type": "markdown",
   "metadata": {},
   "source": [
    "To run the matmul op we call the session 'run()' method, passing 'product' which represents the output of the matmul op.  This indicates to the call that we want to get the output of the matmul op back. All inputs needed by the op are run automatically by the session.  They typically are run in parallel. The call 'run(product)' thus causes the execution of threes ops in the graph: the two constants and matmul. The output of the op is returned in 'result' as a numpy `ndarray` object."
   ]
  },
  {
   "cell_type": "code",
   "execution_count": 10,
   "metadata": {},
   "outputs": [
    {
     "name": "stdout",
     "output_type": "stream",
     "text": [
      "[[ 12.]]\n"
     ]
    }
   ],
   "source": [
    "with tf.Session() as sess:\n",
    "    result = sess.run(product)\n",
    "    print(result)"
   ]
  },
  {
   "cell_type": "markdown",
   "metadata": {},
   "source": [
    "## Linear Regression"
   ]
  },
  {
   "cell_type": "markdown",
   "metadata": {},
   "source": [
    "Let us now perform linear regression using tensorflow."
   ]
  },
  {
   "cell_type": "code",
   "execution_count": 11,
   "metadata": {
    "collapsed": true
   },
   "outputs": [],
   "source": [
    "import tensorflow as tf\n",
    "import numpy\n",
    "import matplotlib.pyplot as plt\n",
    "rng = numpy.random"
   ]
  },
  {
   "cell_type": "markdown",
   "metadata": {},
   "source": [
    "Define the parameters. \n",
    "'learning_rate' sets the rate of convergence of the gradient descent optimizer.\n",
    "'training_epochs' sets the number of iterations, where an 'epoch' is an iteration.\n",
    "'display_step' sets the frequency of epochs to print the current status of the algorithm."
   ]
  },
  {
   "cell_type": "code",
   "execution_count": 12,
   "metadata": {
    "collapsed": true
   },
   "outputs": [],
   "source": [
    "learning_rate = 0.01\n",
    "training_epochs = 1000\n",
    "display_step = 50"
   ]
  },
  {
   "cell_type": "markdown",
   "metadata": {
    "collapsed": true
   },
   "source": [
    "The training data is given as below."
   ]
  },
  {
   "cell_type": "code",
   "execution_count": 13,
   "metadata": {
    "collapsed": true
   },
   "outputs": [],
   "source": [
    "train_X = numpy.asarray([3.3,4.4,5.5,6.71,6.93,4.168,9.779,6.182,7.59,2.167,\n",
    "                         7.042,10.791,5.313,7.997,5.654,9.27,3.1])\n",
    "train_Y = numpy.asarray([1.7,2.76,2.09,3.19,1.694,1.573,3.366,2.596,2.53,1.221,\n",
    "                         2.827,3.465,1.65,2.904,2.42,2.94,1.3])\n",
    "n_samples = train_X.shape[0]"
   ]
  },
  {
   "cell_type": "markdown",
   "metadata": {},
   "source": [
    "The input graph is created and weights for the model are set."
   ]
  },
  {
   "cell_type": "code",
   "execution_count": 14,
   "metadata": {
    "collapsed": true
   },
   "outputs": [],
   "source": [
    "X = tf.placeholder(\"float\")\n",
    "Y = tf.placeholder(\"float\")\n",
    "\n",
    "W = tf.Variable(rng.randn(), name=\"weight\")\n",
    "b = tf.Variable(rng.randn(), name=\"bias\")"
   ]
  },
  {
   "cell_type": "markdown",
   "metadata": {},
   "source": [
    "The linear model is constructed."
   ]
  },
  {
   "cell_type": "code",
   "execution_count": 15,
   "metadata": {
    "collapsed": true
   },
   "outputs": [],
   "source": [
    "pred = tf.add(tf.multiply(X, W), b)"
   ]
  },
  {
   "cell_type": "markdown",
   "metadata": {},
   "source": [
    "The mean squared error and the optimizer are defined."
   ]
  },
  {
   "cell_type": "code",
   "execution_count": 16,
   "metadata": {
    "collapsed": true
   },
   "outputs": [],
   "source": [
    "cost = tf.reduce_sum(tf.pow(pred-Y, 2))/(2*n_samples)\n",
    " \n",
    "optimizer = tf.train.GradientDescentOptimizer(learning_rate).minimize(cost)"
   ]
  },
  {
   "cell_type": "markdown",
   "metadata": {},
   "source": [
    "Initialize the variables (i.e. assign their default value)."
   ]
  },
  {
   "cell_type": "code",
   "execution_count": 17,
   "metadata": {
    "collapsed": true
   },
   "outputs": [],
   "source": [
    "init = tf.global_variables_initializer()"
   ]
  },
  {
   "cell_type": "markdown",
   "metadata": {},
   "source": [
    "Start training."
   ]
  },
  {
   "cell_type": "code",
   "execution_count": 18,
   "metadata": {},
   "outputs": [
    {
     "name": "stdout",
     "output_type": "stream",
     "text": [
      "Epoch: 0050 cost= 0.167519063 W= 0.417855 b= -0.408992\n",
      "Epoch: 0100 cost= 0.157056987 W= 0.407847 b= -0.337\n",
      "Epoch: 0150 cost= 0.147803172 W= 0.398435 b= -0.26929\n",
      "Epoch: 0200 cost= 0.139618054 W= 0.389583 b= -0.205607\n",
      "Epoch: 0250 cost= 0.132378444 W= 0.381257 b= -0.145711\n",
      "Epoch: 0300 cost= 0.125975028 W= 0.373426 b= -0.0893783\n",
      "Epoch: 0350 cost= 0.120311320 W= 0.366062 b= -0.0363956\n",
      "Epoch: 0400 cost= 0.115301885 W= 0.359135 b= 0.0134361\n",
      "Epoch: 0450 cost= 0.110871151 W= 0.35262 b= 0.060304\n",
      "Epoch: 0500 cost= 0.106952339 W= 0.346492 b= 0.104385\n",
      "Epoch: 0550 cost= 0.103486292 W= 0.340729 b= 0.145843\n",
      "Epoch: 0600 cost= 0.100420788 W= 0.335309 b= 0.184836\n",
      "Epoch: 0650 cost= 0.097709529 W= 0.330211 b= 0.22151\n",
      "Epoch: 0700 cost= 0.095311597 W= 0.325416 b= 0.256003\n",
      "Epoch: 0750 cost= 0.093190826 W= 0.320907 b= 0.288444\n",
      "Epoch: 0800 cost= 0.091315188 W= 0.316665 b= 0.318956\n",
      "Epoch: 0850 cost= 0.089656383 W= 0.312676 b= 0.347653\n",
      "Epoch: 0900 cost= 0.088189326 W= 0.308925 b= 0.374644\n",
      "Epoch: 0950 cost= 0.086891890 W= 0.305396 b= 0.40003\n",
      "Epoch: 1000 cost= 0.085744530 W= 0.302077 b= 0.423905\n",
      "Optimization Finished.\n",
      "Training cost= 0.0857445 W= 0.302077 b= 0.423905 \n",
      "\n"
     ]
    },
    {
     "data": {
      "image/png": "[encoded data removed]",
      "text/plain": [
       "<matplotlib.figure.Figure at 0x11d0efc50>"
      ]
     },
     "metadata": {},
     "output_type": "display_data"
    }
   ],
   "source": [
    "with tf.Session() as sess:\n",
    "    sess.run(init)\n",
    "\n",
    "    # Fit all training data\n",
    "    for epoch in range(training_epochs):\n",
    "        for (x, y) in zip(train_X, train_Y):\n",
    "            sess.run(optimizer, feed_dict={X: x, Y: y})\n",
    "\n",
    "        #Display logs per epoch step\n",
    "        if (epoch+1) % display_step == 0:\n",
    "            c = sess.run(cost, feed_dict={X: train_X, Y:train_Y})\n",
    "            print(\"Epoch:\", '%04d' % (epoch+1), \"cost=\", \"{:.9f}\".format(c), \\\n",
    "                \"W=\", sess.run(W), \"b=\", sess.run(b))\n",
    "\n",
    "    print(\"Optimization Finished.\")\n",
    "    training_cost = sess.run(cost, feed_dict={X: train_X, Y: train_Y})\n",
    "    print(\"Training cost=\", training_cost, \"W=\", sess.run(W), \"b=\", sess.run(b), '\\n')\n",
    "\n",
    "    #Graphic display\n",
    "    plt.plot(train_X, train_Y, 'ro', label='Original data')\n",
    "    plt.plot(train_X, sess.run(W) * train_X + sess.run(b), label='Fitted line')\n",
    "    plt.legend()\n",
    "    plt.show()"
   ]
  },
  {
   "cell_type": "markdown",
   "metadata": {},
   "source": [
    "### Q1. Observe the dependence of the training cost (error) on the learning rate.\n",
    "\n",
    "With all other parameters fixed, we now vary the learning rate to take three values in $\\{0.0001,0.01,0.8\\}$. Draw a plot with y-axis representing the training cost and the x-axis representing the iteration (0 through 1000). There must be three curves in this plot, each representing a choice of learning rate."
   ]
  },
  {
   "cell_type": "code",
   "execution_count": 19,
   "metadata": {},
   "outputs": [
    {
     "data": {
      "image/png": "[encoded data removed]",
      "text/plain": [
       "<matplotlib.figure.Figure at 0x11d10f2b0>"
      ]
     },
     "metadata": {},
     "output_type": "display_data"
    }
   ],
   "source": [
    "#----------------- Your code here ---------------#\n",
    "\n",
    "def train_regression(learning_rate):\n",
    "    optimizer = tf.train.GradientDescentOptimizer(learning_rate).minimize(cost)\n",
    "    with tf.Session() as sess:\n",
    "        sess.run(init)\n",
    "\n",
    "        # Fit all training data\n",
    "        output_list = []\n",
    "        epoch_list = []\n",
    "        for epoch in range(training_epochs):\n",
    "            for (x, y) in zip(train_X, train_Y): sess.run(optimizer, feed_dict={X: x, Y: y})\n",
    "\n",
    "            c = sess.run(cost, feed_dict={X: train_X, Y:train_Y})\n",
    "            if (epoch+1) % display_step == 0:\n",
    "                output_list.append(c)\n",
    "                epoch_list.append(epoch)\n",
    "    return output_list, epoch_list\n",
    "\n",
    "X_1, Y_1 = train_regression(0.0001)\n",
    "X_2, Y_2 = train_regression(0.01)\n",
    "X_3, Y_3 = train_regression(0.8)\n",
    "\n",
    "plt.plot(Y_1, X_1, label='0.0001')\n",
    "plt.plot(Y_2, X_2, label='0.01')\n",
    "plt.plot(Y_3, X_3, label='0.8')\n",
    "\n",
    "axes = plt.gca()\n",
    "axes.set_ylim([0,1])\n",
    "\n",
    "plt.legend()\n",
    "plt.show()\n",
    "#------------------------------------------------#"
   ]
  },
  {
   "cell_type": "markdown",
   "metadata": {},
   "source": [
    "As we can observe, very small or very large learning rates aren't preferable since even convergence is not guaranteed."
   ]
  },
  {
   "cell_type": "markdown",
   "metadata": {},
   "source": [
    "## Logistics Regression\n",
    "Let us now perform logistics regression using tensorflow. We will now be using the __[MNIST database of handwritten digits](http://yann.lecun.com/exdb/mnist/)__.\n",
    "\n",
    "The data can be imported "
   ]
  },
  {
   "cell_type": "code",
   "execution_count": 20,
   "metadata": {
    "scrolled": true
   },
   "outputs": [
    {
     "name": "stdout",
     "output_type": "stream",
     "text": [
      "Extracting /tmp/data/train-images-idx3-ubyte.gz\n",
      "Extracting /tmp/data/train-labels-idx1-ubyte.gz\n",
      "Extracting /tmp/data/t10k-images-idx3-ubyte.gz\n",
      "Extracting /tmp/data/t10k-labels-idx1-ubyte.gz\n"
     ]
    }
   ],
   "source": [
    "import tensorflow as tf\n",
    "from matplotlib import pyplot as plt\n",
    "import numpy as np\n",
    "\n",
    "# Import MINST data\n",
    "from tensorflow.examples.tutorials.mnist import input_data\n",
    "mnist = input_data.read_data_sets(\"/tmp/data/\", one_hot=True)"
   ]
  },
  {
   "cell_type": "markdown",
   "metadata": {},
   "source": [
    "Let us see visualize a part of the data."
   ]
  },
  {
   "cell_type": "code",
   "execution_count": 21,
   "metadata": {},
   "outputs": [
    {
     "data": {
      "image/png": "[encoded data removed]",
      "text/plain": [
       "<matplotlib.figure.Figure at 0x1248252b0>"
      ]
     },
     "metadata": {},
     "output_type": "display_data"
    },
    {
     "name": "stdout",
     "output_type": "stream",
     "text": [
      "True classification: 7\n"
     ]
    },
    {
     "data": {
      "image/png": "[encoded data removed]",
      "text/plain": [
       "<matplotlib.figure.Figure at 0x12dd1d940>"
      ]
     },
     "metadata": {},
     "output_type": "display_data"
    },
    {
     "name": "stdout",
     "output_type": "stream",
     "text": [
      "True classification: 6\n"
     ]
    },
    {
     "data": {
      "image/png": "[encoded data removed]",
      "text/plain": [
       "<matplotlib.figure.Figure at 0x1275c6be0>"
      ]
     },
     "metadata": {},
     "output_type": "display_data"
    },
    {
     "name": "stdout",
     "output_type": "stream",
     "text": [
      "True classification: 6\n"
     ]
    },
    {
     "data": {
      "image/png": "[encoded data removed]",
      "text/plain": [
       "<matplotlib.figure.Figure at 0x12de2d898>"
      ]
     },
     "metadata": {},
     "output_type": "display_data"
    },
    {
     "name": "stdout",
     "output_type": "stream",
     "text": [
      "True classification: 8\n"
     ]
    },
    {
     "data": {
      "image/png": "[encoded data removed]",
      "text/plain": [
       "<matplotlib.figure.Figure at 0x12deb0048>"
      ]
     },
     "metadata": {},
     "output_type": "display_data"
    },
    {
     "name": "stdout",
     "output_type": "stream",
     "text": [
      "True classification: 9\n"
     ]
    },
    {
     "data": {
      "image/png": "[encoded data removed]",
      "text/plain": [
       "<matplotlib.figure.Figure at 0x12e055da0>"
      ]
     },
     "metadata": {},
     "output_type": "display_data"
    },
    {
     "name": "stdout",
     "output_type": "stream",
     "text": [
      "True classification: 7\n"
     ]
    },
    {
     "data": {
      "image/png": "[encoded data removed]",
      "text/plain": [
       "<matplotlib.figure.Figure at 0x12e179a58>"
      ]
     },
     "metadata": {},
     "output_type": "display_data"
    },
    {
     "name": "stdout",
     "output_type": "stream",
     "text": [
      "True classification: 7\n"
     ]
    },
    {
     "data": {
      "image/png": "[encoded data removed]",
      "text/plain": [
       "<matplotlib.figure.Figure at 0x12df31780>"
      ]
     },
     "metadata": {},
     "output_type": "display_data"
    },
    {
     "name": "stdout",
     "output_type": "stream",
     "text": [
      "True classification: 6\n"
     ]
    },
    {
     "data": {
      "image/png": "[encoded data removed]",
      "text/plain": [
       "<matplotlib.figure.Figure at 0x12e3deb70>"
      ]
     },
     "metadata": {},
     "output_type": "display_data"
    },
    {
     "name": "stdout",
     "output_type": "stream",
     "text": [
      "True classification: 2\n"
     ]
    },
    {
     "data": {
      "image/png": "[encoded data removed]",
      "text/plain": [
       "<matplotlib.figure.Figure at 0x12e4d6a58>"
      ]
     },
     "metadata": {},
     "output_type": "display_data"
    },
    {
     "name": "stdout",
     "output_type": "stream",
     "text": [
      "True classification: 2\n"
     ]
    },
    {
     "data": {
      "image/png": "[encoded data removed]",
      "text/plain": [
       "<matplotlib.figure.Figure at 0x12e28f8d0>"
      ]
     },
     "metadata": {},
     "output_type": "display_data"
    },
    {
     "name": "stdout",
     "output_type": "stream",
     "text": [
      "True classification: 0\n"
     ]
    },
    {
     "data": {
      "image/png": "[encoded data removed]",
      "text/plain": [
       "<matplotlib.figure.Figure at 0x12e70bef0>"
      ]
     },
     "metadata": {},
     "output_type": "display_data"
    },
    {
     "name": "stdout",
     "output_type": "stream",
     "text": [
      "True classification: 7\n"
     ]
    },
    {
     "data": {
      "image/png": "[encoded data removed]",
      "text/plain": [
       "<matplotlib.figure.Figure at 0x12e848b70>"
      ]
     },
     "metadata": {},
     "output_type": "display_data"
    },
    {
     "name": "stdout",
     "output_type": "stream",
     "text": [
      "True classification: 8\n"
     ]
    },
    {
     "data": {
      "image/png": "[encoded data removed]",
      "text/plain": [
       "<matplotlib.figure.Figure at 0x12e948c18>"
      ]
     },
     "metadata": {},
     "output_type": "display_data"
    },
    {
     "name": "stdout",
     "output_type": "stream",
     "text": [
      "True classification: 2\n"
     ]
    },
    {
     "data": {
      "image/png": "[encoded data removed]",
      "text/plain": [
       "<matplotlib.figure.Figure at 0x12ea3ee48>"
      ]
     },
     "metadata": {},
     "output_type": "display_data"
    },
    {
     "name": "stdout",
     "output_type": "stream",
     "text": [
      "True classification: 0\n"
     ]
    },
    {
     "data": {
      "image/png": "[encoded data removed]",
      "text/plain": [
       "<matplotlib.figure.Figure at 0x12eb42dd8>"
      ]
     },
     "metadata": {},
     "output_type": "display_data"
    },
    {
     "name": "stdout",
     "output_type": "stream",
     "text": [
      "True classification: 2\n"
     ]
    },
    {
     "data": {
      "image/png": "[encoded data removed]",
      "text/plain": [
       "<matplotlib.figure.Figure at 0x12ec7cb70>"
      ]
     },
     "metadata": {},
     "output_type": "display_data"
    },
    {
     "name": "stdout",
     "output_type": "stream",
     "text": [
      "True classification: 0\n"
     ]
    },
    {
     "data": {
      "image/png": "[encoded data removed]",
      "text/plain": [
       "<matplotlib.figure.Figure at 0x12ec5c588>"
      ]
     },
     "metadata": {},
     "output_type": "display_data"
    },
    {
     "name": "stdout",
     "output_type": "stream",
     "text": [
      "True classification: 3\n"
     ]
    },
    {
     "data": {
      "image/png": "[encoded data removed]",
      "text/plain": [
       "<matplotlib.figure.Figure at 0x12e587dd8>"
      ]
     },
     "metadata": {},
     "output_type": "display_data"
    },
    {
     "name": "stdout",
     "output_type": "stream",
     "text": [
      "True classification: 8\n"
     ]
    },
    {
     "data": {
      "image/png": "[encoded data removed]",
      "text/plain": [
       "<matplotlib.figure.Figure at 0x12ec139e8>"
      ]
     },
     "metadata": {},
     "output_type": "display_data"
    },
    {
     "name": "stdout",
     "output_type": "stream",
     "text": [
      "True classification: 7\n"
     ]
    }
   ],
   "source": [
    "def gen_image(arr):\n",
    "    two_d = (np.reshape(arr, (28, 28)) * 255).astype(np.uint8)\n",
    "    plt.imshow(two_d, interpolation='nearest')\n",
    "    return plt\n",
    "\n",
    "# Get a batch of two random images and show in a pop-up window.\n",
    "batch_xs, batch_ys = mnist.test.next_batch(20)\n",
    "for i in range(20):\n",
    "    gen_image(batch_xs[i]).show()\n",
    "    print(\"True classification:\",list(batch_ys[i]).index(1))"
   ]
  },
  {
   "cell_type": "markdown",
   "metadata": {},
   "source": [
    "Then, we set the parameters similar to the linear regression exercise."
   ]
  },
  {
   "cell_type": "code",
   "execution_count": 22,
   "metadata": {
    "collapsed": true
   },
   "outputs": [],
   "source": [
    "# Parameters\n",
    "learning_rate = 0.01\n",
    "training_epochs = 100\n",
    "batch_size = 100\n",
    "display_step = 1\n",
    "\n",
    "# tf Graph Input\n",
    "x = tf.placeholder(tf.float32, [None, 784]) # mnist data image of shape 28*28=784\n",
    "y = tf.placeholder(tf.float32, [None, 10]) # 0-9 digits recognition => 10 classes\n",
    "\n",
    "# Set model weights\n",
    "W = tf.Variable(tf.zeros([784, 10]))\n",
    "b = tf.Variable(tf.zeros([10]))\n",
    "\n",
    "# Construct model\n",
    "pred = tf.nn.softmax(tf.matmul(x, W) + b) # Softmax\n",
    "\n",
    "# Minimize error using cross entropy\n",
    "cost = tf.reduce_mean(-tf.reduce_sum(y*tf.log(pred), reduction_indices=1))\n",
    "# Gradient Descent\n",
    "optimizer = tf.train.GradientDescentOptimizer(learning_rate).minimize(cost)\n",
    "\n",
    "# Initialize the variables (i.e. assign their default value)\n",
    "init = tf.global_variables_initializer()"
   ]
  },
  {
   "cell_type": "markdown",
   "metadata": {},
   "source": [
    "Start training."
   ]
  },
  {
   "cell_type": "code",
   "execution_count": 23,
   "metadata": {},
   "outputs": [
    {
     "name": "stdout",
     "output_type": "stream",
     "text": [
      "Epoch: 0001 cost= 1.183898214\n",
      "Epoch: 0002 cost= 0.665308342\n",
      "Epoch: 0003 cost= 0.552783571\n",
      "Epoch: 0004 cost= 0.498667641\n",
      "Epoch: 0005 cost= 0.465489739\n",
      "Epoch: 0006 cost= 0.442589355\n",
      "Epoch: 0007 cost= 0.425541973\n",
      "Epoch: 0008 cost= 0.412195165\n",
      "Epoch: 0009 cost= 0.401432465\n",
      "Epoch: 0010 cost= 0.392425293\n",
      "Epoch: 0011 cost= 0.384742346\n",
      "Epoch: 0012 cost= 0.378192706\n",
      "Epoch: 0013 cost= 0.372398232\n",
      "Epoch: 0014 cost= 0.367317174\n",
      "Epoch: 0015 cost= 0.362698238\n",
      "Epoch: 0016 cost= 0.358573213\n",
      "Epoch: 0017 cost= 0.354844159\n",
      "Epoch: 0018 cost= 0.351481977\n",
      "Epoch: 0019 cost= 0.348353035\n",
      "Epoch: 0020 cost= 0.345467231\n",
      "Epoch: 0021 cost= 0.342773291\n",
      "Epoch: 0022 cost= 0.340238411\n",
      "Epoch: 0023 cost= 0.337885419\n",
      "Epoch: 0024 cost= 0.335737078\n",
      "Epoch: 0025 cost= 0.333681319\n",
      "Epoch: 0026 cost= 0.331781960\n",
      "Epoch: 0027 cost= 0.329938343\n",
      "Epoch: 0028 cost= 0.328224855\n",
      "Epoch: 0029 cost= 0.326590512\n",
      "Epoch: 0030 cost= 0.325041974\n",
      "Epoch: 0031 cost= 0.323573996\n",
      "Epoch: 0032 cost= 0.322148951\n",
      "Epoch: 0033 cost= 0.320782947\n",
      "Epoch: 0034 cost= 0.319562138\n",
      "Epoch: 0035 cost= 0.318319913\n",
      "Epoch: 0036 cost= 0.317137144\n",
      "Epoch: 0037 cost= 0.316020662\n",
      "Epoch: 0038 cost= 0.314912067\n",
      "Epoch: 0039 cost= 0.313856030\n",
      "Epoch: 0040 cost= 0.312815333\n",
      "Epoch: 0041 cost= 0.311887442\n",
      "Epoch: 0042 cost= 0.310994318\n",
      "Epoch: 0043 cost= 0.310054436\n",
      "Epoch: 0044 cost= 0.309147701\n",
      "Epoch: 0045 cost= 0.308342149\n",
      "Epoch: 0046 cost= 0.307528140\n",
      "Epoch: 0047 cost= 0.306719379\n",
      "Epoch: 0048 cost= 0.305973771\n",
      "Epoch: 0049 cost= 0.305215142\n",
      "Epoch: 0050 cost= 0.304486037\n",
      "Epoch: 0051 cost= 0.303802654\n",
      "Epoch: 0052 cost= 0.303103241\n",
      "Epoch: 0053 cost= 0.302469346\n",
      "Epoch: 0054 cost= 0.301819288\n",
      "Epoch: 0055 cost= 0.301206708\n",
      "Epoch: 0056 cost= 0.300565897\n",
      "Epoch: 0057 cost= 0.299928822\n",
      "Epoch: 0058 cost= 0.299398293\n",
      "Epoch: 0059 cost= 0.298784484\n",
      "Epoch: 0060 cost= 0.298247610\n",
      "Epoch: 0061 cost= 0.297701291\n",
      "Epoch: 0062 cost= 0.297226269\n",
      "Epoch: 0063 cost= 0.296695855\n",
      "Epoch: 0064 cost= 0.296180533\n",
      "Epoch: 0065 cost= 0.295679112\n",
      "Epoch: 0066 cost= 0.295198161\n",
      "Epoch: 0067 cost= 0.294734182\n",
      "Epoch: 0068 cost= 0.294281722\n",
      "Epoch: 0069 cost= 0.293796275\n",
      "Epoch: 0070 cost= 0.293383557\n",
      "Epoch: 0071 cost= 0.292945816\n",
      "Epoch: 0072 cost= 0.292467417\n",
      "Epoch: 0073 cost= 0.292113494\n",
      "Epoch: 0074 cost= 0.291675508\n",
      "Epoch: 0075 cost= 0.291273939\n",
      "Epoch: 0076 cost= 0.290882596\n",
      "Epoch: 0077 cost= 0.290497047\n",
      "Epoch: 0078 cost= 0.290144363\n",
      "Epoch: 0079 cost= 0.289698564\n",
      "Epoch: 0080 cost= 0.289384448\n",
      "Epoch: 0081 cost= 0.289043821\n",
      "Epoch: 0082 cost= 0.288678120\n",
      "Epoch: 0083 cost= 0.288325593\n",
      "Epoch: 0084 cost= 0.287998520\n",
      "Epoch: 0085 cost= 0.287664026\n",
      "Epoch: 0086 cost= 0.287294150\n",
      "Epoch: 0087 cost= 0.286994001\n",
      "Epoch: 0088 cost= 0.286687467\n",
      "Epoch: 0089 cost= 0.286383921\n",
      "Epoch: 0090 cost= 0.286066549\n",
      "Epoch: 0091 cost= 0.285718978\n",
      "Epoch: 0092 cost= 0.285478832\n",
      "Epoch: 0093 cost= 0.285162855\n",
      "Epoch: 0094 cost= 0.284903606\n",
      "Epoch: 0095 cost= 0.284611574\n",
      "Epoch: 0096 cost= 0.284313518\n",
      "Epoch: 0097 cost= 0.284051882\n",
      "Epoch: 0098 cost= 0.283776877\n",
      "Epoch: 0099 cost= 0.283469135\n",
      "Epoch: 0100 cost= 0.283229419\n",
      "Optimization Finished.\n",
      "Accuracy: 0.924\n"
     ]
    },
    {
     "data": {
      "image/png": "[encoded data removed]",
      "text/plain": [
       "<matplotlib.figure.Figure at 0x12e9ea4e0>"
      ]
     },
     "metadata": {},
     "output_type": "display_data"
    },
    {
     "name": "stdout",
     "output_type": "stream",
     "text": [
      "Predicted classification: 7\n"
     ]
    },
    {
     "data": {
      "image/png": "[encoded data removed]",
      "text/plain": [
       "<matplotlib.figure.Figure at 0x12e809b70>"
      ]
     },
     "metadata": {},
     "output_type": "display_data"
    },
    {
     "name": "stdout",
     "output_type": "stream",
     "text": [
      "Predicted classification: 6\n"
     ]
    },
    {
     "data": {
      "image/png": "[encoded data removed]",
      "text/plain": [
       "<matplotlib.figure.Figure at 0x12e5a7940>"
      ]
     },
     "metadata": {},
     "output_type": "display_data"
    },
    {
     "name": "stdout",
     "output_type": "stream",
     "text": [
      "Predicted classification: 6\n"
     ]
    },
    {
     "data": {
      "image/png": "[encoded data removed]",
      "text/plain": [
       "<matplotlib.figure.Figure at 0x12ec13550>"
      ]
     },
     "metadata": {},
     "output_type": "display_data"
    },
    {
     "name": "stdout",
     "output_type": "stream",
     "text": [
      "Predicted classification: 8\n"
     ]
    },
    {
     "data": {
      "image/png": "[encoded data removed]",
      "text/plain": [
       "<matplotlib.figure.Figure at 0x12dd43a90>"
      ]
     },
     "metadata": {},
     "output_type": "display_data"
    },
    {
     "name": "stdout",
     "output_type": "stream",
     "text": [
      "Predicted classification: 7\n"
     ]
    },
    {
     "data": {
      "image/png": "[encoded data removed]",
      "text/plain": [
       "<matplotlib.figure.Figure at 0x1275cbdd8>"
      ]
     },
     "metadata": {},
     "output_type": "display_data"
    },
    {
     "name": "stdout",
     "output_type": "stream",
     "text": [
      "Predicted classification: 7\n"
     ]
    },
    {
     "data": {
      "image/png": "[encoded data removed]",
      "text/plain": [
       "<matplotlib.figure.Figure at 0x12e13ed30>"
      ]
     },
     "metadata": {},
     "output_type": "display_data"
    },
    {
     "name": "stdout",
     "output_type": "stream",
     "text": [
      "Predicted classification: 7\n"
     ]
    },
    {
     "data": {
      "image/png": "[encoded data removed]",
      "text/plain": [
       "<matplotlib.figure.Figure at 0x12e019710>"
      ]
     },
     "metadata": {},
     "output_type": "display_data"
    },
    {
     "name": "stdout",
     "output_type": "stream",
     "text": [
      "Predicted classification: 6\n"
     ]
    },
    {
     "data": {
      "image/png": "[encoded data removed]",
      "text/plain": [
       "<matplotlib.figure.Figure at 0x12dcc0550>"
      ]
     },
     "metadata": {},
     "output_type": "display_data"
    },
    {
     "name": "stdout",
     "output_type": "stream",
     "text": [
      "Predicted classification: 2\n"
     ]
    },
    {
     "data": {
      "image/png": "[encoded data removed]",
      "text/plain": [
       "<matplotlib.figure.Figure at 0x12e07cac8>"
      ]
     },
     "metadata": {},
     "output_type": "display_data"
    },
    {
     "name": "stdout",
     "output_type": "stream",
     "text": [
      "Predicted classification: 2\n"
     ]
    }
   ],
   "source": [
    "with tf.Session() as sess:\n",
    "    sess.run(init)\n",
    "\n",
    "    # Training cycle\n",
    "    for epoch in range(training_epochs):\n",
    "        avg_cost = 0.\n",
    "        total_batch = int(mnist.train.num_examples/batch_size)\n",
    "        # Loop over all batches\n",
    "        for i in range(total_batch):\n",
    "            batch_xs, batch_ys = mnist.train.next_batch(batch_size)\n",
    "            # Fit training using batch data\n",
    "            _, c = sess.run([optimizer, cost], feed_dict={x: batch_xs,\n",
    "                                                          y: batch_ys})\n",
    "            # Compute average loss\n",
    "            avg_cost += c / total_batch\n",
    "        # Display logs per epoch step\n",
    "        if (epoch+1) % display_step == 0:\n",
    "            print(\"Epoch:\", '%04d' % (epoch+1), \"cost=\", \"{:.9f}\".format(avg_cost))\n",
    "            \n",
    "    prediction=tf.argmax(pred,1)\n",
    "    print(\"Optimization Finished.\")\n",
    "\n",
    "    # Test model\n",
    "    correct_prediction = tf.equal(tf.argmax(pred, 1), tf.argmax(y, 1))\n",
    "    \n",
    "    # Calculate accuracy for 3000 examples\n",
    "    accuracy = tf.reduce_mean(tf.cast(correct_prediction, tf.float32))\n",
    "    print(\"Accuracy:\", accuracy.eval({x: mnist.test.images[:3000], y: mnist.test.labels[:3000]}))\n",
    "    \n",
    "    predicted_labels = list(prediction.eval({x: mnist.test.images[:3000]}))\n",
    "    images = mnist.test.images[:3000]\n",
    "    for i in range(10):\n",
    "        gen_image(images[i]).show()\n",
    "        print(\"Predicted classification:\",predicted_labels[i])   "
   ]
  },
  {
   "cell_type": "markdown",
   "metadata": {},
   "source": [
    "### Q2. Observe the dependence of the training cost (error) on the learning rate.\n",
    "\n",
    "With all other parameters fixed, we now vary the learning rate to take three values in $\\{0.0001,0.01,1\\}$. Draw a plot with y-axis representing the training cost and the x-axis representing the iteration (0 through 1000). There must be three curves in this plot, each representing a choice of learning rate."
   ]
  },
  {
   "cell_type": "code",
   "execution_count": 24,
   "metadata": {},
   "outputs": [
    {
     "data": {
      "image/png": "[encoded data removed]",
      "text/plain": [
       "<matplotlib.figure.Figure at 0x12de43048>"
      ]
     },
     "metadata": {},
     "output_type": "display_data"
    }
   ],
   "source": [
    "#----------------- Your code here ---------------#\n",
    "\n",
    "def train_logistics_regression(learning_rate):\n",
    "    optimizer = tf.train.GradientDescentOptimizer(learning_rate).minimize(cost)\n",
    "    with tf.Session() as sess:\n",
    "        sess.run(init)\n",
    "\n",
    "        output_list = []\n",
    "        epoch_list = []\n",
    "        # Training cycle\n",
    "        for epoch in range(training_epochs):\n",
    "            avg_cost = 0.\n",
    "            total_batch = int(mnist.train.num_examples/batch_size)\n",
    "            for i in range(total_batch):\n",
    "                batch_xs, batch_ys = mnist.train.next_batch(batch_size)\n",
    "                # Fit training using batch data\n",
    "                _, c = sess.run([optimizer, cost], feed_dict={x: batch_xs, y: batch_ys})\n",
    "                # Compute average loss\n",
    "                avg_cost += c / total_batch\n",
    "\n",
    "            if (epoch+1) % display_step == 0:\n",
    "                output_list.append(avg_cost)\n",
    "                epoch_list.append(epoch)\n",
    "            \n",
    "    return output_list, epoch_list\n",
    "\n",
    "X_1, Y_1 = train_logistics_regression(0.0001)\n",
    "X_2, Y_2 = train_logistics_regression(0.01)\n",
    "X_3, Y_3 = train_logistics_regression(1)\n",
    "\n",
    "plt.plot(Y_1, X_1, label='0.0001')\n",
    "plt.plot(Y_2, X_2, label='0.01')\n",
    "plt.plot(Y_3, X_3, label='1')\n",
    "\n",
    "axes = plt.gca()\n",
    "axes.set_ylim([0,5])\n",
    "\n",
    "plt.legend()\n",
    "plt.show()\n",
    "#------------------------------------------------#"
   ]
  },
  {
   "cell_type": "code",
   "execution_count": null,
   "metadata": {
    "collapsed": true
   },
   "outputs": [],
   "source": []
  }
 ],
 "metadata": {
  "kernelspec": {
   "display_name": "Python 3",
   "language": "python",
   "name": "python3"
  },
  "language_info": {
   "codemirror_mode": {
    "name": "ipython",
    "version": 3
   },
   "file_extension": ".py",
   "mimetype": "text/x-python",
   "name": "python",
   "nbconvert_exporter": "python",
   "pygments_lexer": "ipython3",
   "version": "3.6.1"
  }
 },
 "nbformat": 4,
 "nbformat_minor": 2
}
